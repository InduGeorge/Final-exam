{
 "cells": [
  {
   "cell_type": "code",
   "execution_count": 2,
   "id": "ccd65651",
   "metadata": {},
   "outputs": [],
   "source": [
    "#importing basics libraries\n",
    "import pandas as pd\n",
    "import numpy as np\n",
    "import matplotlib.pyplot as plt\n",
    "import seaborn as sns\n",
    "%matplotlib inline"
   ]
  },
  {
   "cell_type": "code",
   "execution_count": 3,
   "id": "c762b872",
   "metadata": {},
   "outputs": [
    {
     "data": {
      "text/html": [
       "<div>\n",
       "<style scoped>\n",
       "    .dataframe tbody tr th:only-of-type {\n",
       "        vertical-align: middle;\n",
       "    }\n",
       "\n",
       "    .dataframe tbody tr th {\n",
       "        vertical-align: top;\n",
       "    }\n",
       "\n",
       "    .dataframe thead th {\n",
       "        text-align: right;\n",
       "    }\n",
       "</style>\n",
       "<table border=\"1\" class=\"dataframe\">\n",
       "  <thead>\n",
       "    <tr style=\"text-align: right;\">\n",
       "      <th></th>\n",
       "      <th>CustomerID</th>\n",
       "      <th>Age</th>\n",
       "      <th>Gender</th>\n",
       "      <th>City</th>\n",
       "      <th>is_Married</th>\n",
       "      <th>family_size</th>\n",
       "      <th>height</th>\n",
       "      <th>annual_income</th>\n",
       "      <th>job</th>\n",
       "      <th>is_physically_ok</th>\n",
       "      <th>has_taken_car_loan</th>\n",
       "      <th>preferable_fuel_choice</th>\n",
       "      <th>vehicle_choice</th>\n",
       "    </tr>\n",
       "  </thead>\n",
       "  <tbody>\n",
       "    <tr>\n",
       "      <th>0</th>\n",
       "      <td>CusID_00000</td>\n",
       "      <td>36.0</td>\n",
       "      <td>Male</td>\n",
       "      <td>New York City</td>\n",
       "      <td>Divorced</td>\n",
       "      <td>2.0</td>\n",
       "      <td>160.0</td>\n",
       "      <td>32200.0</td>\n",
       "      <td>Service</td>\n",
       "      <td>Yes</td>\n",
       "      <td>Yes</td>\n",
       "      <td>Hybrid</td>\n",
       "      <td>Sedan</td>\n",
       "    </tr>\n",
       "    <tr>\n",
       "      <th>1</th>\n",
       "      <td>CusID_00001</td>\n",
       "      <td>15.0</td>\n",
       "      <td>Female</td>\n",
       "      <td>New York City</td>\n",
       "      <td>Single</td>\n",
       "      <td>1.0</td>\n",
       "      <td>143.0</td>\n",
       "      <td>9000.0</td>\n",
       "      <td>Service</td>\n",
       "      <td>Yes</td>\n",
       "      <td>Yes</td>\n",
       "      <td>Petrol</td>\n",
       "      <td>Compact Utility Vehicle</td>\n",
       "    </tr>\n",
       "    <tr>\n",
       "      <th>2</th>\n",
       "      <td>CusID_00002</td>\n",
       "      <td>55.0</td>\n",
       "      <td>Male</td>\n",
       "      <td>Paris</td>\n",
       "      <td>Married</td>\n",
       "      <td>2.0</td>\n",
       "      <td>168.0</td>\n",
       "      <td>152400.0</td>\n",
       "      <td>Service</td>\n",
       "      <td>Yes</td>\n",
       "      <td>No</td>\n",
       "      <td>Petrol</td>\n",
       "      <td>Sports Sedan</td>\n",
       "    </tr>\n",
       "    <tr>\n",
       "      <th>3</th>\n",
       "      <td>CusID_00003</td>\n",
       "      <td>23.0</td>\n",
       "      <td>Male</td>\n",
       "      <td>Vancouver</td>\n",
       "      <td>Divorced</td>\n",
       "      <td>3.0</td>\n",
       "      <td>165.0</td>\n",
       "      <td>141140.0</td>\n",
       "      <td>Business</td>\n",
       "      <td>Yes</td>\n",
       "      <td>No</td>\n",
       "      <td>Diesel</td>\n",
       "      <td>Sportscar</td>\n",
       "    </tr>\n",
       "    <tr>\n",
       "      <th>4</th>\n",
       "      <td>CusID_00004</td>\n",
       "      <td>23.0</td>\n",
       "      <td>Not_Specified</td>\n",
       "      <td>Vancouver</td>\n",
       "      <td>Single</td>\n",
       "      <td>1.0</td>\n",
       "      <td>147.0</td>\n",
       "      <td>38100.0</td>\n",
       "      <td>Service</td>\n",
       "      <td>Yes</td>\n",
       "      <td>Yes</td>\n",
       "      <td>Hybrid</td>\n",
       "      <td>Sports Utility Vehicle</td>\n",
       "    </tr>\n",
       "  </tbody>\n",
       "</table>\n",
       "</div>"
      ],
      "text/plain": [
       "    CustomerID   Age         Gender           City is_Married  family_size  \\\n",
       "0  CusID_00000  36.0           Male  New York City   Divorced          2.0   \n",
       "1  CusID_00001  15.0         Female  New York City     Single          1.0   \n",
       "2  CusID_00002  55.0           Male          Paris    Married          2.0   \n",
       "3  CusID_00003  23.0           Male      Vancouver   Divorced          3.0   \n",
       "4  CusID_00004  23.0  Not_Specified      Vancouver     Single          1.0   \n",
       "\n",
       "   height  annual_income       job is_physically_ok has_taken_car_loan  \\\n",
       "0   160.0        32200.0   Service              Yes                Yes   \n",
       "1   143.0         9000.0   Service              Yes                Yes   \n",
       "2   168.0       152400.0   Service              Yes                 No   \n",
       "3   165.0       141140.0  Business              Yes                 No   \n",
       "4   147.0        38100.0   Service              Yes                Yes   \n",
       "\n",
       "  preferable_fuel_choice           vehicle_choice  \n",
       "0                 Hybrid                    Sedan  \n",
       "1                 Petrol  Compact Utility Vehicle  \n",
       "2                 Petrol             Sports Sedan  \n",
       "3                 Diesel                Sportscar  \n",
       "4                 Hybrid   Sports Utility Vehicle  "
      ]
     },
     "execution_count": 3,
     "metadata": {},
     "output_type": "execute_result"
    }
   ],
   "source": [
    "train_df=pd.read_csv(r\"C:\\Users\\anoop\\Downloads\\55dab3acabf311ec\\dataset\\train.csv\")\n",
    "train_df.head()"
   ]
  },
  {
   "cell_type": "code",
   "execution_count": 4,
   "id": "0a11c13d",
   "metadata": {},
   "outputs": [
    {
     "data": {
      "text/html": [
       "<div>\n",
       "<style scoped>\n",
       "    .dataframe tbody tr th:only-of-type {\n",
       "        vertical-align: middle;\n",
       "    }\n",
       "\n",
       "    .dataframe tbody tr th {\n",
       "        vertical-align: top;\n",
       "    }\n",
       "\n",
       "    .dataframe thead th {\n",
       "        text-align: right;\n",
       "    }\n",
       "</style>\n",
       "<table border=\"1\" class=\"dataframe\">\n",
       "  <thead>\n",
       "    <tr style=\"text-align: right;\">\n",
       "      <th></th>\n",
       "      <th>CustomerID</th>\n",
       "      <th>Age</th>\n",
       "      <th>Gender</th>\n",
       "      <th>City</th>\n",
       "      <th>is_Married</th>\n",
       "      <th>family_size</th>\n",
       "      <th>height</th>\n",
       "      <th>annual_income</th>\n",
       "      <th>job</th>\n",
       "      <th>is_physically_ok</th>\n",
       "      <th>has_taken_car_loan</th>\n",
       "      <th>preferable_fuel_choice</th>\n",
       "    </tr>\n",
       "  </thead>\n",
       "  <tbody>\n",
       "    <tr>\n",
       "      <th>0</th>\n",
       "      <td>CusID_30000</td>\n",
       "      <td>32.0</td>\n",
       "      <td>Female</td>\n",
       "      <td>Delhi</td>\n",
       "      <td>Married</td>\n",
       "      <td>6.0</td>\n",
       "      <td>142.0</td>\n",
       "      <td>150800.0</td>\n",
       "      <td>Service</td>\n",
       "      <td>Yes</td>\n",
       "      <td>No</td>\n",
       "      <td>Diesel</td>\n",
       "    </tr>\n",
       "    <tr>\n",
       "      <th>1</th>\n",
       "      <td>CusID_30001</td>\n",
       "      <td>22.0</td>\n",
       "      <td>Male</td>\n",
       "      <td>Perth</td>\n",
       "      <td>Divorced</td>\n",
       "      <td>4.0</td>\n",
       "      <td>155.0</td>\n",
       "      <td>167000.0</td>\n",
       "      <td>Service</td>\n",
       "      <td>Yes</td>\n",
       "      <td>No</td>\n",
       "      <td>Petrol</td>\n",
       "    </tr>\n",
       "    <tr>\n",
       "      <th>2</th>\n",
       "      <td>CusID_30002</td>\n",
       "      <td>46.0</td>\n",
       "      <td>Female</td>\n",
       "      <td>Barcelona</td>\n",
       "      <td>Married</td>\n",
       "      <td>2.0</td>\n",
       "      <td>NaN</td>\n",
       "      <td>66000.0</td>\n",
       "      <td>Service</td>\n",
       "      <td>Yes</td>\n",
       "      <td>No</td>\n",
       "      <td>Petrol</td>\n",
       "    </tr>\n",
       "    <tr>\n",
       "      <th>3</th>\n",
       "      <td>CusID_30003</td>\n",
       "      <td>35.0</td>\n",
       "      <td>NaN</td>\n",
       "      <td>Kuala Lampur</td>\n",
       "      <td>Single</td>\n",
       "      <td>1.0</td>\n",
       "      <td>137.0</td>\n",
       "      <td>71820.0</td>\n",
       "      <td>Business</td>\n",
       "      <td>Yes</td>\n",
       "      <td>NaN</td>\n",
       "      <td>Petrol</td>\n",
       "    </tr>\n",
       "    <tr>\n",
       "      <th>4</th>\n",
       "      <td>CusID_30004</td>\n",
       "      <td>48.0</td>\n",
       "      <td>Male</td>\n",
       "      <td>Sydney</td>\n",
       "      <td>Married</td>\n",
       "      <td>3.0</td>\n",
       "      <td>162.0</td>\n",
       "      <td>6500.0</td>\n",
       "      <td>Service</td>\n",
       "      <td>Yes</td>\n",
       "      <td>Yes</td>\n",
       "      <td>Hybrid</td>\n",
       "    </tr>\n",
       "  </tbody>\n",
       "</table>\n",
       "</div>"
      ],
      "text/plain": [
       "    CustomerID   Age  Gender          City is_Married  family_size  height  \\\n",
       "0  CusID_30000  32.0  Female         Delhi    Married          6.0   142.0   \n",
       "1  CusID_30001  22.0    Male         Perth   Divorced          4.0   155.0   \n",
       "2  CusID_30002  46.0  Female     Barcelona    Married          2.0     NaN   \n",
       "3  CusID_30003  35.0     NaN  Kuala Lampur     Single          1.0   137.0   \n",
       "4  CusID_30004  48.0    Male        Sydney    Married          3.0   162.0   \n",
       "\n",
       "   annual_income       job is_physically_ok has_taken_car_loan  \\\n",
       "0       150800.0   Service              Yes                 No   \n",
       "1       167000.0   Service              Yes                 No   \n",
       "2        66000.0   Service              Yes                 No   \n",
       "3        71820.0  Business              Yes                NaN   \n",
       "4         6500.0   Service              Yes                Yes   \n",
       "\n",
       "  preferable_fuel_choice  \n",
       "0                 Diesel  \n",
       "1                 Petrol  \n",
       "2                 Petrol  \n",
       "3                 Petrol  \n",
       "4                 Hybrid  "
      ]
     },
     "execution_count": 4,
     "metadata": {},
     "output_type": "execute_result"
    }
   ],
   "source": [
    "test_df=pd.read_csv(r\"C:\\Users\\anoop\\Downloads\\55dab3acabf311ec\\dataset\\test.csv\")\n",
    "test_df.head()"
   ]
  },
  {
   "cell_type": "code",
   "execution_count": 5,
   "id": "d67b679a",
   "metadata": {},
   "outputs": [
    {
     "data": {
      "text/html": [
       "<div>\n",
       "<style scoped>\n",
       "    .dataframe tbody tr th:only-of-type {\n",
       "        vertical-align: middle;\n",
       "    }\n",
       "\n",
       "    .dataframe tbody tr th {\n",
       "        vertical-align: top;\n",
       "    }\n",
       "\n",
       "    .dataframe thead th {\n",
       "        text-align: right;\n",
       "    }\n",
       "</style>\n",
       "<table border=\"1\" class=\"dataframe\">\n",
       "  <thead>\n",
       "    <tr style=\"text-align: right;\">\n",
       "      <th></th>\n",
       "      <th>CustomerID</th>\n",
       "      <th>Age</th>\n",
       "      <th>Gender</th>\n",
       "      <th>City</th>\n",
       "      <th>is_Married</th>\n",
       "      <th>family_size</th>\n",
       "      <th>height</th>\n",
       "      <th>annual_income</th>\n",
       "      <th>job</th>\n",
       "      <th>is_physically_ok</th>\n",
       "      <th>has_taken_car_loan</th>\n",
       "      <th>preferable_fuel_choice</th>\n",
       "      <th>vehicle_choice</th>\n",
       "    </tr>\n",
       "  </thead>\n",
       "  <tbody>\n",
       "    <tr>\n",
       "      <th>0</th>\n",
       "      <td>CusID_00000</td>\n",
       "      <td>36.0</td>\n",
       "      <td>Male</td>\n",
       "      <td>New York City</td>\n",
       "      <td>Divorced</td>\n",
       "      <td>2.0</td>\n",
       "      <td>160.0</td>\n",
       "      <td>32200.0</td>\n",
       "      <td>Service</td>\n",
       "      <td>Yes</td>\n",
       "      <td>Yes</td>\n",
       "      <td>Hybrid</td>\n",
       "      <td>Sedan</td>\n",
       "    </tr>\n",
       "    <tr>\n",
       "      <th>1</th>\n",
       "      <td>CusID_00001</td>\n",
       "      <td>15.0</td>\n",
       "      <td>Female</td>\n",
       "      <td>New York City</td>\n",
       "      <td>Single</td>\n",
       "      <td>1.0</td>\n",
       "      <td>143.0</td>\n",
       "      <td>9000.0</td>\n",
       "      <td>Service</td>\n",
       "      <td>Yes</td>\n",
       "      <td>Yes</td>\n",
       "      <td>Petrol</td>\n",
       "      <td>Compact Utility Vehicle</td>\n",
       "    </tr>\n",
       "    <tr>\n",
       "      <th>2</th>\n",
       "      <td>CusID_00002</td>\n",
       "      <td>55.0</td>\n",
       "      <td>Male</td>\n",
       "      <td>Paris</td>\n",
       "      <td>Married</td>\n",
       "      <td>2.0</td>\n",
       "      <td>168.0</td>\n",
       "      <td>152400.0</td>\n",
       "      <td>Service</td>\n",
       "      <td>Yes</td>\n",
       "      <td>No</td>\n",
       "      <td>Petrol</td>\n",
       "      <td>Sports Sedan</td>\n",
       "    </tr>\n",
       "    <tr>\n",
       "      <th>3</th>\n",
       "      <td>CusID_00003</td>\n",
       "      <td>23.0</td>\n",
       "      <td>Male</td>\n",
       "      <td>Vancouver</td>\n",
       "      <td>Divorced</td>\n",
       "      <td>3.0</td>\n",
       "      <td>165.0</td>\n",
       "      <td>141140.0</td>\n",
       "      <td>Business</td>\n",
       "      <td>Yes</td>\n",
       "      <td>No</td>\n",
       "      <td>Diesel</td>\n",
       "      <td>Sportscar</td>\n",
       "    </tr>\n",
       "    <tr>\n",
       "      <th>4</th>\n",
       "      <td>CusID_00004</td>\n",
       "      <td>23.0</td>\n",
       "      <td>Not_Specified</td>\n",
       "      <td>Vancouver</td>\n",
       "      <td>Single</td>\n",
       "      <td>1.0</td>\n",
       "      <td>147.0</td>\n",
       "      <td>38100.0</td>\n",
       "      <td>Service</td>\n",
       "      <td>Yes</td>\n",
       "      <td>Yes</td>\n",
       "      <td>Hybrid</td>\n",
       "      <td>Sports Utility Vehicle</td>\n",
       "    </tr>\n",
       "  </tbody>\n",
       "</table>\n",
       "</div>"
      ],
      "text/plain": [
       "    CustomerID   Age         Gender           City is_Married  family_size  \\\n",
       "0  CusID_00000  36.0           Male  New York City   Divorced          2.0   \n",
       "1  CusID_00001  15.0         Female  New York City     Single          1.0   \n",
       "2  CusID_00002  55.0           Male          Paris    Married          2.0   \n",
       "3  CusID_00003  23.0           Male      Vancouver   Divorced          3.0   \n",
       "4  CusID_00004  23.0  Not_Specified      Vancouver     Single          1.0   \n",
       "\n",
       "   height  annual_income       job is_physically_ok has_taken_car_loan  \\\n",
       "0   160.0        32200.0   Service              Yes                Yes   \n",
       "1   143.0         9000.0   Service              Yes                Yes   \n",
       "2   168.0       152400.0   Service              Yes                 No   \n",
       "3   165.0       141140.0  Business              Yes                 No   \n",
       "4   147.0        38100.0   Service              Yes                Yes   \n",
       "\n",
       "  preferable_fuel_choice           vehicle_choice  \n",
       "0                 Hybrid                    Sedan  \n",
       "1                 Petrol  Compact Utility Vehicle  \n",
       "2                 Petrol             Sports Sedan  \n",
       "3                 Diesel                Sportscar  \n",
       "4                 Hybrid   Sports Utility Vehicle  "
      ]
     },
     "execution_count": 5,
     "metadata": {},
     "output_type": "execute_result"
    }
   ],
   "source": [
    "final_df=train_df.append(test_df)\n",
    "final_df.head()"
   ]
  },
  {
   "cell_type": "code",
   "execution_count": 6,
   "id": "c14cbb47",
   "metadata": {},
   "outputs": [
    {
     "data": {
      "text/html": [
       "<div>\n",
       "<style scoped>\n",
       "    .dataframe tbody tr th:only-of-type {\n",
       "        vertical-align: middle;\n",
       "    }\n",
       "\n",
       "    .dataframe tbody tr th {\n",
       "        vertical-align: top;\n",
       "    }\n",
       "\n",
       "    .dataframe thead th {\n",
       "        text-align: right;\n",
       "    }\n",
       "</style>\n",
       "<table border=\"1\" class=\"dataframe\">\n",
       "  <thead>\n",
       "    <tr style=\"text-align: right;\">\n",
       "      <th></th>\n",
       "      <th>CustomerID</th>\n",
       "      <th>Age</th>\n",
       "      <th>Gender</th>\n",
       "      <th>City</th>\n",
       "      <th>is_Married</th>\n",
       "      <th>family_size</th>\n",
       "      <th>height</th>\n",
       "      <th>annual_income</th>\n",
       "      <th>job</th>\n",
       "      <th>is_physically_ok</th>\n",
       "      <th>has_taken_car_loan</th>\n",
       "      <th>preferable_fuel_choice</th>\n",
       "      <th>vehicle_choice</th>\n",
       "    </tr>\n",
       "  </thead>\n",
       "  <tbody>\n",
       "    <tr>\n",
       "      <th>4995</th>\n",
       "      <td>CusID_34995</td>\n",
       "      <td>31.0</td>\n",
       "      <td>Female</td>\n",
       "      <td>Mumbai</td>\n",
       "      <td>NaN</td>\n",
       "      <td>5.0</td>\n",
       "      <td>145.0</td>\n",
       "      <td>NaN</td>\n",
       "      <td>Service</td>\n",
       "      <td>No</td>\n",
       "      <td>Yes</td>\n",
       "      <td>Petrol</td>\n",
       "      <td>NaN</td>\n",
       "    </tr>\n",
       "    <tr>\n",
       "      <th>4996</th>\n",
       "      <td>CusID_34996</td>\n",
       "      <td>39.0</td>\n",
       "      <td>Male</td>\n",
       "      <td>NaN</td>\n",
       "      <td>Married</td>\n",
       "      <td>2.0</td>\n",
       "      <td>169.0</td>\n",
       "      <td>52870.0</td>\n",
       "      <td>Business</td>\n",
       "      <td>Yes</td>\n",
       "      <td>Yes</td>\n",
       "      <td>Petrol</td>\n",
       "      <td>NaN</td>\n",
       "    </tr>\n",
       "    <tr>\n",
       "      <th>4997</th>\n",
       "      <td>CusID_34997</td>\n",
       "      <td>28.0</td>\n",
       "      <td>Male</td>\n",
       "      <td>Berlin</td>\n",
       "      <td>Divorced</td>\n",
       "      <td>4.0</td>\n",
       "      <td>155.0</td>\n",
       "      <td>151500.0</td>\n",
       "      <td>Business</td>\n",
       "      <td>Yes</td>\n",
       "      <td>No</td>\n",
       "      <td>Diesel</td>\n",
       "      <td>NaN</td>\n",
       "    </tr>\n",
       "    <tr>\n",
       "      <th>4998</th>\n",
       "      <td>CusID_34998</td>\n",
       "      <td>37.0</td>\n",
       "      <td>Male</td>\n",
       "      <td>Vancouver</td>\n",
       "      <td>Married</td>\n",
       "      <td>5.0</td>\n",
       "      <td>153.0</td>\n",
       "      <td>110470.0</td>\n",
       "      <td>Business</td>\n",
       "      <td>Yes</td>\n",
       "      <td>No</td>\n",
       "      <td>Petrol</td>\n",
       "      <td>NaN</td>\n",
       "    </tr>\n",
       "    <tr>\n",
       "      <th>4999</th>\n",
       "      <td>CusID_34999</td>\n",
       "      <td>26.0</td>\n",
       "      <td>Female</td>\n",
       "      <td>Vienna</td>\n",
       "      <td>Divorced</td>\n",
       "      <td>3.0</td>\n",
       "      <td>137.0</td>\n",
       "      <td>33600.0</td>\n",
       "      <td>Service</td>\n",
       "      <td>Yes</td>\n",
       "      <td>Yes</td>\n",
       "      <td>Hybrid</td>\n",
       "      <td>NaN</td>\n",
       "    </tr>\n",
       "  </tbody>\n",
       "</table>\n",
       "</div>"
      ],
      "text/plain": [
       "       CustomerID   Age  Gender       City is_Married  family_size  height  \\\n",
       "4995  CusID_34995  31.0  Female     Mumbai        NaN          5.0   145.0   \n",
       "4996  CusID_34996  39.0    Male        NaN    Married          2.0   169.0   \n",
       "4997  CusID_34997  28.0    Male     Berlin   Divorced          4.0   155.0   \n",
       "4998  CusID_34998  37.0    Male  Vancouver    Married          5.0   153.0   \n",
       "4999  CusID_34999  26.0  Female     Vienna   Divorced          3.0   137.0   \n",
       "\n",
       "      annual_income       job is_physically_ok has_taken_car_loan  \\\n",
       "4995            NaN   Service               No                Yes   \n",
       "4996        52870.0  Business              Yes                Yes   \n",
       "4997       151500.0  Business              Yes                 No   \n",
       "4998       110470.0  Business              Yes                 No   \n",
       "4999        33600.0   Service              Yes                Yes   \n",
       "\n",
       "     preferable_fuel_choice vehicle_choice  \n",
       "4995                 Petrol            NaN  \n",
       "4996                 Petrol            NaN  \n",
       "4997                 Diesel            NaN  \n",
       "4998                 Petrol            NaN  \n",
       "4999                 Hybrid            NaN  "
      ]
     },
     "execution_count": 6,
     "metadata": {},
     "output_type": "execute_result"
    }
   ],
   "source": [
    "final_df.tail()"
   ]
  },
  {
   "cell_type": "code",
   "execution_count": 7,
   "id": "1b19518c",
   "metadata": {},
   "outputs": [
    {
     "data": {
      "text/plain": [
       "(30000, 13)"
      ]
     },
     "execution_count": 7,
     "metadata": {},
     "output_type": "execute_result"
    }
   ],
   "source": [
    "train_df.shape"
   ]
  },
  {
   "cell_type": "code",
   "execution_count": 8,
   "id": "ee9fa9ab",
   "metadata": {},
   "outputs": [
    {
     "name": "stdout",
     "output_type": "stream",
     "text": [
      "<class 'pandas.core.frame.DataFrame'>\n",
      "RangeIndex: 30000 entries, 0 to 29999\n",
      "Data columns (total 13 columns):\n",
      " #   Column                  Non-Null Count  Dtype  \n",
      "---  ------                  --------------  -----  \n",
      " 0   CustomerID              30000 non-null  object \n",
      " 1   Age                     29561 non-null  float64\n",
      " 2   Gender                  29583 non-null  object \n",
      " 3   City                    29577 non-null  object \n",
      " 4   is_Married              29580 non-null  object \n",
      " 5   family_size             29586 non-null  float64\n",
      " 6   height                  29569 non-null  float64\n",
      " 7   annual_income           29581 non-null  float64\n",
      " 8   job                     29572 non-null  object \n",
      " 9   is_physically_ok        29578 non-null  object \n",
      " 10  has_taken_car_loan      29569 non-null  object \n",
      " 11  preferable_fuel_choice  29572 non-null  object \n",
      " 12  vehicle_choice          30000 non-null  object \n",
      "dtypes: float64(4), object(9)\n",
      "memory usage: 3.0+ MB\n"
     ]
    }
   ],
   "source": [
    "train_df.info()"
   ]
  },
  {
   "cell_type": "code",
   "execution_count": 9,
   "id": "6d20f060",
   "metadata": {},
   "outputs": [
    {
     "data": {
      "text/plain": [
       "CustomerID                  0\n",
       "Age                       439\n",
       "Gender                    417\n",
       "City                      423\n",
       "is_Married                420\n",
       "family_size               414\n",
       "height                    431\n",
       "annual_income             419\n",
       "job                       428\n",
       "is_physically_ok          422\n",
       "has_taken_car_loan        431\n",
       "preferable_fuel_choice    428\n",
       "vehicle_choice              0\n",
       "dtype: int64"
      ]
     },
     "execution_count": 9,
     "metadata": {},
     "output_type": "execute_result"
    }
   ],
   "source": [
    "#checking for issing values\n",
    "train_df.isna().sum()"
   ]
  },
  {
   "cell_type": "code",
   "execution_count": 10,
   "id": "db179d2d",
   "metadata": {},
   "outputs": [
    {
     "data": {
      "text/plain": [
       "CustomerID                 object\n",
       "Age                       float64\n",
       "Gender                     object\n",
       "City                       object\n",
       "is_Married                 object\n",
       "family_size               float64\n",
       "height                    float64\n",
       "annual_income             float64\n",
       "job                        object\n",
       "is_physically_ok           object\n",
       "has_taken_car_loan         object\n",
       "preferable_fuel_choice     object\n",
       "vehicle_choice             object\n",
       "dtype: object"
      ]
     },
     "execution_count": 10,
     "metadata": {},
     "output_type": "execute_result"
    }
   ],
   "source": [
    "train_df.dtypes"
   ]
  },
  {
   "cell_type": "code",
   "execution_count": 11,
   "id": "70b8b5bf",
   "metadata": {},
   "outputs": [
    {
     "data": {
      "text/plain": [
       "Index(['CustomerID', 'Age', 'Gender', 'City', 'is_Married', 'family_size',\n",
       "       'height', 'annual_income', 'job', 'is_physically_ok',\n",
       "       'has_taken_car_loan', 'preferable_fuel_choice', 'vehicle_choice'],\n",
       "      dtype='object')"
      ]
     },
     "execution_count": 11,
     "metadata": {},
     "output_type": "execute_result"
    }
   ],
   "source": [
    "train_df.columns"
   ]
  },
  {
   "cell_type": "markdown",
   "id": "1afb6efc",
   "metadata": {},
   "source": [
    "we will  replace the missing values in the columns 'Age','family_size',\n",
    "       'height', 'annual_income' with median of the respective columns"
   ]
  },
  {
   "cell_type": "code",
   "execution_count": 12,
   "id": "3e7b3a72",
   "metadata": {},
   "outputs": [],
   "source": [
    "train_df['Age'] =train_df['Age'].fillna(train_df['Age'].median())\n",
    "train_df['family_size'] =train_df['family_size'].fillna(train_df['family_size'].median())\n",
    "train_df['height'] =train_df['height'].fillna(train_df['height'].median())\n",
    "train_df['annual_income'] =train_df['annual_income'].fillna(train_df['annual_income'].median())"
   ]
  },
  {
   "cell_type": "code",
   "execution_count": 13,
   "id": "3682cde6",
   "metadata": {},
   "outputs": [
    {
     "data": {
      "text/plain": [
       "CustomerID                  0\n",
       "Age                         0\n",
       "Gender                    417\n",
       "City                      423\n",
       "is_Married                420\n",
       "family_size                 0\n",
       "height                      0\n",
       "annual_income               0\n",
       "job                       428\n",
       "is_physically_ok          422\n",
       "has_taken_car_loan        431\n",
       "preferable_fuel_choice    428\n",
       "vehicle_choice              0\n",
       "dtype: int64"
      ]
     },
     "execution_count": 13,
     "metadata": {},
     "output_type": "execute_result"
    }
   ],
   "source": [
    "train_df.isna().sum()"
   ]
  },
  {
   "cell_type": "markdown",
   "id": "1972be32",
   "metadata": {},
   "source": [
    "we will replace the missing values in  'Gender', 'is_Married', 'is_physically_ok',\n",
    "       'has_taken_car_loan', 'preferable_fuel_choice', 'vehicle_choice' using 'Not_Specified in the respestive columns"
   ]
  },
  {
   "cell_type": "code",
   "execution_count": 14,
   "id": "7fbb6064",
   "metadata": {},
   "outputs": [],
   "source": [
    "train_df[['Gender','is_Married','is_physically_ok','has_taken_car_loan','preferable_fuel_choice']] = train_df[['Gender','is_Married','is_physically_ok','has_taken_car_loan','preferable_fuel_choice']].fillna('Not_Specified')"
   ]
  },
  {
   "cell_type": "code",
   "execution_count": null,
   "id": "a4efdc9c",
   "metadata": {},
   "outputs": [],
   "source": []
  },
  {
   "cell_type": "markdown",
   "id": "aaae8954",
   "metadata": {},
   "source": [
    "we will replace the missing values of the columns 'City','job','vehicle_choice'  with the mode of the respective columns"
   ]
  },
  {
   "cell_type": "code",
   "execution_count": 15,
   "id": "f5655364",
   "metadata": {},
   "outputs": [],
   "source": [
    "train_df['City'].fillna(train_df.City.mode().to_string(), inplace=True)\n",
    "train_df['job'].fillna(train_df.job.mode().to_string(), inplace=True)\n",
    "train_df['vehicle_choice'] =train_df['vehicle_choice'].fillna(train_df['vehicle_choice'].mode())"
   ]
  },
  {
   "cell_type": "code",
   "execution_count": 16,
   "id": "1c6a179e",
   "metadata": {},
   "outputs": [
    {
     "data": {
      "text/plain": [
       "CustomerID                0\n",
       "Age                       0\n",
       "Gender                    0\n",
       "City                      0\n",
       "is_Married                0\n",
       "family_size               0\n",
       "height                    0\n",
       "annual_income             0\n",
       "job                       0\n",
       "is_physically_ok          0\n",
       "has_taken_car_loan        0\n",
       "preferable_fuel_choice    0\n",
       "vehicle_choice            0\n",
       "dtype: int64"
      ]
     },
     "execution_count": 16,
     "metadata": {},
     "output_type": "execute_result"
    }
   ],
   "source": [
    "train_df.isna().sum()"
   ]
  },
  {
   "cell_type": "markdown",
   "id": "229fd440",
   "metadata": {},
   "source": [
    "Hence the missing values are handled in the train_df"
   ]
  },
  {
   "cell_type": "markdown",
   "id": "859c85b7",
   "metadata": {},
   "source": [
    "# Checking for outliers"
   ]
  },
  {
   "cell_type": "code",
   "execution_count": 17,
   "id": "5fc1fb0d",
   "metadata": {},
   "outputs": [
    {
     "data": {
      "image/png": "[encoded data removed]",
      "text/plain": [
       "<Figure size 1080x1080 with 20 Axes>"
      ]
     },
     "metadata": {
      "needs_background": "light"
     },
     "output_type": "display_data"
    }
   ],
   "source": [
    "#plotting boxplot\n",
    "train_df.plot(kind='box',subplots=True,layout=(4,5),figsize=(15,15),title='Outlier Visualization')\n",
    "plt.show()"
   ]
  },
  {
   "cell_type": "markdown",
   "id": "b3d779b7",
   "metadata": {},
   "source": [
    "Outliers aree present in the columns 'Age' and 'annual_income'"
   ]
  },
  {
   "cell_type": "code",
   "execution_count": 18,
   "id": "e563be65",
   "metadata": {},
   "outputs": [
    {
     "data": {
      "text/plain": [
       "Text(0.5, 1.0, 'Box Plot of Age')"
      ]
     },
     "execution_count": 18,
     "metadata": {},
     "output_type": "execute_result"
    },
    {
     "data": {
      "image/png": "[encoded data removed]",
      "text/plain": [
       "<Figure size 432x288 with 1 Axes>"
      ]
     },
     "metadata": {
      "needs_background": "light"
     },
     "output_type": "display_data"
    }
   ],
   "source": [
    "#case 1:Age\n",
    "#checking the outlier in Age\n",
    "plt.boxplot(train_df['Age'])\n",
    "plt.title('Box Plot of Age')"
   ]
  },
  {
   "cell_type": "code",
   "execution_count": 19,
   "id": "01acdc41",
   "metadata": {},
   "outputs": [
    {
     "name": "stdout",
     "output_type": "stream",
     "text": [
      "24.0\n",
      "30.0\n",
      "36.0\n",
      "6.0\n",
      "54.0\n"
     ]
    }
   ],
   "source": [
    "Q1=np.percentile(train_df['Age'],25,interpolation='midpoint')\n",
    "Q2=np.percentile(train_df['Age'],50,interpolation='midpoint')   \n",
    "Q3=np.percentile(train_df['Age'],75,interpolation='midpoint')\n",
    "print(Q1)\n",
    "print(Q2)\n",
    "print(Q3) \n",
    "\n",
    "#finding IQR\n",
    "IQR=Q3-Q1\n",
    "low_lim=Q1-1.5*IQR\n",
    "up_lim=Q3+1.5*IQR\n",
    "print(low_lim)          \n",
    "print(up_lim)"
   ]
  },
  {
   "cell_type": "code",
   "execution_count": 20,
   "id": "835e6191",
   "metadata": {},
   "outputs": [
    {
     "data": {
      "text/plain": [
       "1006"
      ]
     },
     "execution_count": 20,
     "metadata": {},
     "output_type": "execute_result"
    }
   ],
   "source": [
    "#removing outlier using for loop\n",
    "outlier=[]\n",
    "for x in train_df['Age']:\n",
    "    if((x>up_lim)or(x<low_lim)):\n",
    "        outlier.append(x)\n",
    "        \n",
    "len(outlier)"
   ]
  },
  {
   "cell_type": "code",
   "execution_count": 21,
   "id": "d120cbfa",
   "metadata": {},
   "outputs": [
    {
     "data": {
      "text/plain": [
       "Text(0.5, 1.0, 'Box plot of Age')"
      ]
     },
     "execution_count": 21,
     "metadata": {},
     "output_type": "execute_result"
    },
    {
     "data": {
      "image/png": "[encoded data removed]",
      "text/plain": [
       "<Figure size 432x288 with 1 Axes>"
      ]
     },
     "metadata": {
      "needs_background": "light"
     },
     "output_type": "display_data"
    }
   ],
   "source": [
    "#Removing the outliers\n",
    "ind1=train_df['Age']>up_lim\n",
    "train_df.loc[ind1].index\n",
    "train_df.drop(train_df.loc[ind1].index,inplace=True)\n",
    "plt.boxplot(train_df['Age'])\n",
    "plt.title('Box plot of Age')"
   ]
  },
  {
   "cell_type": "code",
   "execution_count": 22,
   "id": "f01eaa32",
   "metadata": {},
   "outputs": [
    {
     "data": {
      "text/plain": [
       "Text(0.5, 1.0, 'Box Plot of annual_income')"
      ]
     },
     "execution_count": 22,
     "metadata": {},
     "output_type": "execute_result"
    },
    {
     "data": {
      "image/png": "[encoded data removed]",
      "text/plain": [
       "<Figure size 432x288 with 1 Axes>"
      ]
     },
     "metadata": {
      "needs_background": "light"
     },
     "output_type": "display_data"
    }
   ],
   "source": [
    "#case 2:  \n",
    "#checking the outlier in annual_income\n",
    "plt.boxplot(train_df['annual_income'])\n",
    "plt.title('Box Plot of annual_income') "
   ]
  },
  {
   "cell_type": "code",
   "execution_count": 23,
   "id": "dfec49d0",
   "metadata": {},
   "outputs": [
    {
     "name": "stdout",
     "output_type": "stream",
     "text": [
      "36515.0\n",
      "82070.0\n",
      "126560.0\n",
      "-98552.5\n",
      "261627.5\n"
     ]
    }
   ],
   "source": [
    "Q1=np.percentile(train_df['annual_income'],25,interpolation='midpoint')\n",
    "Q2=np.percentile(train_df['annual_income'],50,interpolation='midpoint')   \n",
    "Q3=np.percentile(train_df['annual_income'],75,interpolation='midpoint')\n",
    "print(Q1)\n",
    "print(Q2)\n",
    "print(Q3) \n",
    "\n",
    "#finding IQR\n",
    "IQR=Q3-Q1\n",
    "low_lim=Q1-1.5*IQR\n",
    "up_lim=Q3+1.5*IQR\n",
    "print(low_lim)          \n",
    "print(up_lim)"
   ]
  },
  {
   "cell_type": "code",
   "execution_count": 24,
   "id": "7fd15f56",
   "metadata": {},
   "outputs": [
    {
     "data": {
      "text/plain": [
       "166"
      ]
     },
     "execution_count": 24,
     "metadata": {},
     "output_type": "execute_result"
    }
   ],
   "source": [
    "#removing outlier using for loop\n",
    "outlier=[]\n",
    "for x in train_df['annual_income']:\n",
    "    if((x>up_lim)or(x<low_lim)):\n",
    "        outlier.append(x)\n",
    "        \n",
    "len(outlier)"
   ]
  },
  {
   "cell_type": "code",
   "execution_count": 25,
   "id": "73ea6a38",
   "metadata": {},
   "outputs": [
    {
     "data": {
      "text/plain": [
       "Text(0.5, 1.0, 'Box plot of annual_income')"
      ]
     },
     "execution_count": 25,
     "metadata": {},
     "output_type": "execute_result"
    },
    {
     "data": {
      "image/png": "[encoded data removed]",
      "text/plain": [
       "<Figure size 432x288 with 1 Axes>"
      ]
     },
     "metadata": {
      "needs_background": "light"
     },
     "output_type": "display_data"
    }
   ],
   "source": [
    "#Removing the outliers\n",
    "ind2=train_df['annual_income']>up_lim\n",
    "train_df.loc[ind2].index\n",
    "train_df.drop(train_df.loc[ind2].index,inplace=True)\n",
    "plt.boxplot(train_df['annual_income'])\n",
    "plt.title('Box plot of annual_income')"
   ]
  },
  {
   "cell_type": "code",
   "execution_count": 26,
   "id": "26a94c5b",
   "metadata": {},
   "outputs": [
    {
     "data": {
      "text/plain": [
       "(28828, 13)"
      ]
     },
     "execution_count": 26,
     "metadata": {},
     "output_type": "execute_result"
    }
   ],
   "source": [
    "train_df.shape"
   ]
  },
  {
   "cell_type": "markdown",
   "id": "fd59c8b6",
   "metadata": {},
   "source": [
    "# Encoding"
   ]
  },
  {
   "cell_type": "code",
   "execution_count": 27,
   "id": "1c604b43",
   "metadata": {},
   "outputs": [
    {
     "data": {
      "text/plain": [
       "Index(['CustomerID', 'Age', 'Gender', 'City', 'is_Married', 'family_size',\n",
       "       'height', 'annual_income', 'job', 'is_physically_ok',\n",
       "       'has_taken_car_loan', 'preferable_fuel_choice', 'vehicle_choice'],\n",
       "      dtype='object')"
      ]
     },
     "execution_count": 27,
     "metadata": {},
     "output_type": "execute_result"
    }
   ],
   "source": [
    "train_df.columns"
   ]
  },
  {
   "cell_type": "code",
   "execution_count": 28,
   "id": "49e06a55",
   "metadata": {},
   "outputs": [
    {
     "data": {
      "text/plain": [
       "array(['Sedan', 'Compact Utility Vehicle', 'Sportscar',\n",
       "       'Sports Utility Vehicle', 'Crossover', 'Hatchback',\n",
       "       'Compact Sedan', 'Luxury Coupe', 'Station Wagon', 'Sports Coupe',\n",
       "       'Luxury Sedan', 'Sports Sedan', 'Convertible', 'Coupe', 'Minivan',\n",
       "       'Utility Vehicle', 'Pickup-Truck', 'Utility vehicle'], dtype=object)"
      ]
     },
     "execution_count": 28,
     "metadata": {},
     "output_type": "execute_result"
    }
   ],
   "source": [
    "train_df['vehicle_choice'].unique()"
   ]
  },
  {
   "cell_type": "code",
   "execution_count": 29,
   "id": "ea6f1798",
   "metadata": {},
   "outputs": [
    {
     "data": {
      "text/plain": [
       "(28828, 13)"
      ]
     },
     "execution_count": 29,
     "metadata": {},
     "output_type": "execute_result"
    }
   ],
   "source": [
    "train_df.shape"
   ]
  },
  {
   "cell_type": "code",
   "execution_count": 30,
   "id": "9afea33e",
   "metadata": {},
   "outputs": [
    {
     "data": {
      "text/plain": [
       "array(['Male', 'Female', 'Not_Specified', 'ZH#C@', 'VG?H%', 'SA#?I',\n",
       "       'TD%Q@'], dtype=object)"
      ]
     },
     "execution_count": 30,
     "metadata": {},
     "output_type": "execute_result"
    }
   ],
   "source": [
    "train_df['Gender'].unique()"
   ]
  },
  {
   "cell_type": "code",
   "execution_count": 31,
   "id": "8634d969",
   "metadata": {},
   "outputs": [],
   "source": [
    "train_df.drop(train_df[train_df['Gender'] == 'ZH#C@'].index, inplace = True)\n",
    "train_df.drop(train_df[train_df['Gender'] == 'VG?H%'].index, inplace = True)\n",
    "train_df.drop(train_df[train_df['Gender'] == 'SA#?I'].index, inplace = True)\n",
    "train_df.drop(train_df[train_df['Gender'] == 'TD%Q@'].index, inplace = True)"
   ]
  },
  {
   "cell_type": "code",
   "execution_count": 32,
   "id": "7d0afeb3",
   "metadata": {},
   "outputs": [
    {
     "data": {
      "text/plain": [
       "array(['Male', 'Female', 'Not_Specified'], dtype=object)"
      ]
     },
     "execution_count": 32,
     "metadata": {},
     "output_type": "execute_result"
    }
   ],
   "source": [
    "train_df['Gender'].unique()"
   ]
  },
  {
   "cell_type": "code",
   "execution_count": 33,
   "id": "024379fc",
   "metadata": {},
   "outputs": [
    {
     "data": {
      "text/plain": [
       "array(['Divorced', 'Single', 'Married', 'Not_Specified', 'T@JF%', 'ORV@#',\n",
       "       '?D@NF', 'S#TF%', '@XTZ?'], dtype=object)"
      ]
     },
     "execution_count": 33,
     "metadata": {},
     "output_type": "execute_result"
    }
   ],
   "source": [
    "train_df['is_Married'].unique()"
   ]
  },
  {
   "cell_type": "code",
   "execution_count": 34,
   "id": "bbe961c9",
   "metadata": {},
   "outputs": [],
   "source": [
    "train_df.drop(train_df[train_df['is_Married'] == 'T@JF%'].index, inplace = True)\n",
    "train_df.drop(train_df[train_df['is_Married'] == 'ORV@#'].index, inplace = True)\n",
    "train_df.drop(train_df[train_df['is_Married'] == '?D@NF'].index, inplace = True)\n",
    "train_df.drop(train_df[train_df['is_Married'] == 'S#TF%'].index, inplace = True)\n",
    "train_df.drop(train_df[train_df['is_Married'] == '@XTZ?'].index, inplace = True)"
   ]
  },
  {
   "cell_type": "code",
   "execution_count": 35,
   "id": "f7ad9a03",
   "metadata": {},
   "outputs": [
    {
     "data": {
      "text/plain": [
       "array(['Divorced', 'Single', 'Married', 'Not_Specified'], dtype=object)"
      ]
     },
     "execution_count": 35,
     "metadata": {},
     "output_type": "execute_result"
    }
   ],
   "source": [
    "train_df['is_Married'].unique()"
   ]
  },
  {
   "cell_type": "code",
   "execution_count": 36,
   "id": "0e054817",
   "metadata": {},
   "outputs": [
    {
     "data": {
      "text/plain": [
       "array(['New York City', 'Vancouver', 'Barcelona', 'Los Angeles',\n",
       "       'Toronto', 'Munich', 'Chennai', 'Florence', 'Paris', 'Kolkata',\n",
       "       'San Francisco', 'London', 'Budapest', 'Taipei', 'Mumbai',\n",
       "       'Kuala Lampur', 'Shinjuku', 'Perth', 'Sydney', 'Berlin', 'Vienna',\n",
       "       'Delhi', '0    Barcelona', '#VPI@', '#B?TL', '#XY@G', 'P?IX@'],\n",
       "      dtype=object)"
      ]
     },
     "execution_count": 36,
     "metadata": {},
     "output_type": "execute_result"
    }
   ],
   "source": [
    "train_df['City'].unique()"
   ]
  },
  {
   "cell_type": "code",
   "execution_count": 37,
   "id": "9613691a",
   "metadata": {},
   "outputs": [],
   "source": [
    "train_df.drop(train_df[train_df['City'] == '#VPI@?'].index, inplace = True)\n",
    "train_df.drop(train_df[train_df['City'] == '#B?TL'].index, inplace = True)\n",
    "train_df.drop(train_df[train_df['City'] == '#XY@G'].index, inplace = True)\n",
    "train_df.drop(train_df[train_df['City'] == 'P?IX@'].index, inplace = True)"
   ]
  },
  {
   "cell_type": "code",
   "execution_count": 38,
   "id": "d65fb3bb",
   "metadata": {},
   "outputs": [
    {
     "data": {
      "text/plain": [
       "array(['New York City', 'Vancouver', 'Barcelona', 'Los Angeles',\n",
       "       'Toronto', 'Munich', 'Chennai', 'Florence', 'Paris', 'Kolkata',\n",
       "       'San Francisco', 'London', 'Budapest', 'Taipei', 'Mumbai',\n",
       "       'Kuala Lampur', 'Shinjuku', 'Perth', 'Sydney', 'Berlin', 'Vienna',\n",
       "       'Delhi', '0    Barcelona', '#VPI@'], dtype=object)"
      ]
     },
     "execution_count": 38,
     "metadata": {},
     "output_type": "execute_result"
    }
   ],
   "source": [
    "train_df['City'].unique()"
   ]
  },
  {
   "cell_type": "code",
   "execution_count": 39,
   "id": "92f03aeb",
   "metadata": {},
   "outputs": [
    {
     "data": {
      "text/plain": [
       "array(['Service', 'Business', 'Student', '0    Business', 'Undisclosed',\n",
       "       'KBN?#', 'UZT?@', 'Z@B%L', 'TV%?N'], dtype=object)"
      ]
     },
     "execution_count": 39,
     "metadata": {},
     "output_type": "execute_result"
    }
   ],
   "source": [
    "train_df['job'].unique()"
   ]
  },
  {
   "cell_type": "code",
   "execution_count": 40,
   "id": "d90d9ff4",
   "metadata": {},
   "outputs": [],
   "source": [
    "train_df.drop(train_df[train_df['job'] == 'KBN?#'].index, inplace = True)\n",
    "train_df.drop(train_df[train_df['job'] == 'UZT?@'].index, inplace = True)\n",
    "train_df.drop(train_df[train_df['job'] == 'Z@B%L'].index, inplace = True)\n",
    "train_df.drop(train_df[train_df['job'] == 'TV%?N'].index, inplace = True)\n"
   ]
  },
  {
   "cell_type": "code",
   "execution_count": 41,
   "id": "d0a65da4",
   "metadata": {},
   "outputs": [
    {
     "data": {
      "text/plain": [
       "array(['Service', 'Business', 'Student', '0    Business', 'Undisclosed'],\n",
       "      dtype=object)"
      ]
     },
     "execution_count": 41,
     "metadata": {},
     "output_type": "execute_result"
    }
   ],
   "source": [
    "train_df['job'].unique()"
   ]
  },
  {
   "cell_type": "code",
   "execution_count": 42,
   "id": "9145c649",
   "metadata": {},
   "outputs": [
    {
     "data": {
      "text/plain": [
       "(28812, 13)"
      ]
     },
     "execution_count": 42,
     "metadata": {},
     "output_type": "execute_result"
    }
   ],
   "source": [
    "train_df.shape"
   ]
  },
  {
   "cell_type": "code",
   "execution_count": 43,
   "id": "0acfd219",
   "metadata": {},
   "outputs": [
    {
     "data": {
      "text/plain": [
       "array(['Yes', 'No', 'Not_Specified', 'Y%?UH', 'UY%X@'], dtype=object)"
      ]
     },
     "execution_count": 43,
     "metadata": {},
     "output_type": "execute_result"
    }
   ],
   "source": [
    "train_df['is_physically_ok'].unique()"
   ]
  },
  {
   "cell_type": "code",
   "execution_count": 44,
   "id": "6b331867",
   "metadata": {},
   "outputs": [],
   "source": [
    "train_df.drop(train_df[train_df['is_physically_ok'] == 'Y%?UH'].index, inplace = True)\n",
    "train_df.drop(train_df[train_df['is_physically_ok'] == 'UY%X@'].index, inplace = True)"
   ]
  },
  {
   "cell_type": "code",
   "execution_count": 45,
   "id": "4a5ba7ee",
   "metadata": {},
   "outputs": [
    {
     "data": {
      "text/plain": [
       "array(['Yes', 'No', 'Not_Specified'], dtype=object)"
      ]
     },
     "execution_count": 45,
     "metadata": {},
     "output_type": "execute_result"
    }
   ],
   "source": [
    "train_df['is_physically_ok'].unique()"
   ]
  },
  {
   "cell_type": "code",
   "execution_count": 46,
   "id": "c68b6dc1",
   "metadata": {},
   "outputs": [
    {
     "data": {
      "text/plain": [
       "array(['Yes', 'No', 'Not_Specified', '@W%GO', '?N%IY', 'AF?V%'],\n",
       "      dtype=object)"
      ]
     },
     "execution_count": 46,
     "metadata": {},
     "output_type": "execute_result"
    }
   ],
   "source": [
    "train_df['has_taken_car_loan'].unique()"
   ]
  },
  {
   "cell_type": "code",
   "execution_count": 47,
   "id": "a73cf963",
   "metadata": {},
   "outputs": [],
   "source": [
    "train_df.drop(train_df[train_df['has_taken_car_loan'] == '@W%GO'].index, inplace = True)\n",
    "train_df.drop(train_df[train_df['has_taken_car_loan'] == '?N%IY'].index, inplace = True)\n",
    "train_df.drop(train_df[train_df['has_taken_car_loan'] == 'AF?V%'].index, inplace = True)"
   ]
  },
  {
   "cell_type": "code",
   "execution_count": 48,
   "id": "0dd8d2e1",
   "metadata": {},
   "outputs": [
    {
     "data": {
      "text/plain": [
       "array(['Yes', 'No', 'Not_Specified'], dtype=object)"
      ]
     },
     "execution_count": 48,
     "metadata": {},
     "output_type": "execute_result"
    }
   ],
   "source": [
    "train_df['has_taken_car_loan'].unique()"
   ]
  },
  {
   "cell_type": "code",
   "execution_count": 49,
   "id": "4e059baf",
   "metadata": {},
   "outputs": [
    {
     "data": {
      "text/plain": [
       "array(['Hybrid', 'Petrol', 'Diesel', 'EV', 'Not_Specified', 'SVY@#',\n",
       "       'IX%K#', '#%KXJ'], dtype=object)"
      ]
     },
     "execution_count": 49,
     "metadata": {},
     "output_type": "execute_result"
    }
   ],
   "source": [
    "train_df['preferable_fuel_choice'].unique()"
   ]
  },
  {
   "cell_type": "code",
   "execution_count": 50,
   "id": "81464a11",
   "metadata": {},
   "outputs": [],
   "source": [
    "train_df.drop(train_df[train_df['preferable_fuel_choice'] == 'SVY@#'].index, inplace = True)\n",
    "train_df.drop(train_df[train_df['preferable_fuel_choice'] == 'IX%K#'].index, inplace = True)\n",
    "train_df.drop(train_df[train_df['preferable_fuel_choice'] == '#%KXJ'].index, inplace = True)"
   ]
  },
  {
   "cell_type": "code",
   "execution_count": 51,
   "id": "66e8391c",
   "metadata": {},
   "outputs": [
    {
     "data": {
      "text/plain": [
       "array(['Hybrid', 'Petrol', 'Diesel', 'EV', 'Not_Specified'], dtype=object)"
      ]
     },
     "execution_count": 51,
     "metadata": {},
     "output_type": "execute_result"
    }
   ],
   "source": [
    "train_df['preferable_fuel_choice'].unique()"
   ]
  },
  {
   "cell_type": "code",
   "execution_count": 52,
   "id": "5664cece",
   "metadata": {},
   "outputs": [
    {
     "data": {
      "text/plain": [
       "(28804, 13)"
      ]
     },
     "execution_count": 52,
     "metadata": {},
     "output_type": "execute_result"
    }
   ],
   "source": [
    "train_df.shape"
   ]
  },
  {
   "cell_type": "code",
   "execution_count": 53,
   "id": "7c58ea44",
   "metadata": {},
   "outputs": [],
   "source": [
    "#label encoding\n",
    "from sklearn.preprocessing import LabelEncoder\n",
    "label_en=LabelEncoder()\n",
    "for i in train_df[['Gender','is_Married','City','job', 'is_physically_ok', 'has_taken_car_loan', 'preferable_fuel_choice']]:\n",
    "    train_df[i]=label_en.fit_transform(train_df[i])"
   ]
  },
  {
   "cell_type": "code",
   "execution_count": 54,
   "id": "0ecb17d7",
   "metadata": {},
   "outputs": [
    {
     "data": {
      "text/html": [
       "<div>\n",
       "<style scoped>\n",
       "    .dataframe tbody tr th:only-of-type {\n",
       "        vertical-align: middle;\n",
       "    }\n",
       "\n",
       "    .dataframe tbody tr th {\n",
       "        vertical-align: top;\n",
       "    }\n",
       "\n",
       "    .dataframe thead th {\n",
       "        text-align: right;\n",
       "    }\n",
       "</style>\n",
       "<table border=\"1\" class=\"dataframe\">\n",
       "  <thead>\n",
       "    <tr style=\"text-align: right;\">\n",
       "      <th></th>\n",
       "      <th>CustomerID</th>\n",
       "      <th>Age</th>\n",
       "      <th>Gender</th>\n",
       "      <th>City</th>\n",
       "      <th>is_Married</th>\n",
       "      <th>family_size</th>\n",
       "      <th>height</th>\n",
       "      <th>annual_income</th>\n",
       "      <th>job</th>\n",
       "      <th>is_physically_ok</th>\n",
       "      <th>has_taken_car_loan</th>\n",
       "      <th>preferable_fuel_choice</th>\n",
       "      <th>vehicle_choice</th>\n",
       "    </tr>\n",
       "  </thead>\n",
       "  <tbody>\n",
       "    <tr>\n",
       "      <th>0</th>\n",
       "      <td>CusID_00000</td>\n",
       "      <td>36.0</td>\n",
       "      <td>1</td>\n",
       "      <td>14</td>\n",
       "      <td>0</td>\n",
       "      <td>2.0</td>\n",
       "      <td>160.0</td>\n",
       "      <td>32200.0</td>\n",
       "      <td>2</td>\n",
       "      <td>2</td>\n",
       "      <td>2</td>\n",
       "      <td>2</td>\n",
       "      <td>Sedan</td>\n",
       "    </tr>\n",
       "    <tr>\n",
       "      <th>1</th>\n",
       "      <td>CusID_00001</td>\n",
       "      <td>15.0</td>\n",
       "      <td>0</td>\n",
       "      <td>14</td>\n",
       "      <td>3</td>\n",
       "      <td>1.0</td>\n",
       "      <td>143.0</td>\n",
       "      <td>9000.0</td>\n",
       "      <td>2</td>\n",
       "      <td>2</td>\n",
       "      <td>2</td>\n",
       "      <td>4</td>\n",
       "      <td>Compact Utility Vehicle</td>\n",
       "    </tr>\n",
       "    <tr>\n",
       "      <th>3</th>\n",
       "      <td>CusID_00003</td>\n",
       "      <td>23.0</td>\n",
       "      <td>1</td>\n",
       "      <td>22</td>\n",
       "      <td>0</td>\n",
       "      <td>3.0</td>\n",
       "      <td>165.0</td>\n",
       "      <td>141140.0</td>\n",
       "      <td>1</td>\n",
       "      <td>2</td>\n",
       "      <td>0</td>\n",
       "      <td>0</td>\n",
       "      <td>Sportscar</td>\n",
       "    </tr>\n",
       "    <tr>\n",
       "      <th>4</th>\n",
       "      <td>CusID_00004</td>\n",
       "      <td>23.0</td>\n",
       "      <td>2</td>\n",
       "      <td>22</td>\n",
       "      <td>3</td>\n",
       "      <td>1.0</td>\n",
       "      <td>147.0</td>\n",
       "      <td>38100.0</td>\n",
       "      <td>2</td>\n",
       "      <td>2</td>\n",
       "      <td>2</td>\n",
       "      <td>2</td>\n",
       "      <td>Sports Utility Vehicle</td>\n",
       "    </tr>\n",
       "    <tr>\n",
       "      <th>5</th>\n",
       "      <td>CusID_00005</td>\n",
       "      <td>46.0</td>\n",
       "      <td>0</td>\n",
       "      <td>22</td>\n",
       "      <td>0</td>\n",
       "      <td>4.0</td>\n",
       "      <td>146.0</td>\n",
       "      <td>84140.0</td>\n",
       "      <td>1</td>\n",
       "      <td>2</td>\n",
       "      <td>1</td>\n",
       "      <td>0</td>\n",
       "      <td>Sedan</td>\n",
       "    </tr>\n",
       "  </tbody>\n",
       "</table>\n",
       "</div>"
      ],
      "text/plain": [
       "    CustomerID   Age  Gender  City  is_Married  family_size  height  \\\n",
       "0  CusID_00000  36.0       1    14           0          2.0   160.0   \n",
       "1  CusID_00001  15.0       0    14           3          1.0   143.0   \n",
       "3  CusID_00003  23.0       1    22           0          3.0   165.0   \n",
       "4  CusID_00004  23.0       2    22           3          1.0   147.0   \n",
       "5  CusID_00005  46.0       0    22           0          4.0   146.0   \n",
       "\n",
       "   annual_income  job  is_physically_ok  has_taken_car_loan  \\\n",
       "0        32200.0    2                 2                   2   \n",
       "1         9000.0    2                 2                   2   \n",
       "3       141140.0    1                 2                   0   \n",
       "4        38100.0    2                 2                   2   \n",
       "5        84140.0    1                 2                   1   \n",
       "\n",
       "   preferable_fuel_choice           vehicle_choice  \n",
       "0                       2                    Sedan  \n",
       "1                       4  Compact Utility Vehicle  \n",
       "3                       0                Sportscar  \n",
       "4                       2   Sports Utility Vehicle  \n",
       "5                       0                    Sedan  "
      ]
     },
     "execution_count": 54,
     "metadata": {},
     "output_type": "execute_result"
    }
   ],
   "source": [
    "train_df.head()"
   ]
  },
  {
   "cell_type": "code",
   "execution_count": 55,
   "id": "e26b452b",
   "metadata": {},
   "outputs": [
    {
     "data": {
      "text/plain": [
       "Index(['CustomerID', 'Age', 'Gender', 'City', 'is_Married', 'family_size',\n",
       "       'height', 'annual_income', 'job', 'is_physically_ok',\n",
       "       'has_taken_car_loan', 'preferable_fuel_choice', 'vehicle_choice'],\n",
       "      dtype='object')"
      ]
     },
     "execution_count": 55,
     "metadata": {},
     "output_type": "execute_result"
    }
   ],
   "source": [
    "train_df.columns"
   ]
  },
  {
   "cell_type": "code",
   "execution_count": 56,
   "id": "d1388540",
   "metadata": {},
   "outputs": [],
   "source": [
    "train_df.drop('CustomerID',axis=1, inplace=True)"
   ]
  },
  {
   "cell_type": "code",
   "execution_count": 57,
   "id": "61522b90",
   "metadata": {},
   "outputs": [],
   "source": [
    "#split the data\n",
    "y = train_df['vehicle_choice']\n",
    "x = train_df.drop('vehicle_choice', axis=1)"
   ]
  },
  {
   "cell_type": "markdown",
   "id": "d651f50f",
   "metadata": {},
   "source": [
    "# Modelling"
   ]
  },
  {
   "cell_type": "markdown",
   "id": "d31e37ab",
   "metadata": {},
   "source": [
    "1.Logistic Regression"
   ]
  },
  {
   "cell_type": "code",
   "execution_count": 58,
   "id": "53047477",
   "metadata": {},
   "outputs": [],
   "source": [
    "#split it into train and test\n",
    "from sklearn.model_selection import train_test_split\n",
    "x_train, x_test, y_train, y_test = train_test_split(x,y, random_state=42, test_size=0.2)"
   ]
  },
  {
   "cell_type": "code",
   "execution_count": 59,
   "id": "89ffe682",
   "metadata": {},
   "outputs": [
    {
     "name": "stderr",
     "output_type": "stream",
     "text": [
      "C:\\Users\\anoop\\Downloads\\INDU\\lib\\site-packages\\sklearn\\linear_model\\_logistic.py:763: ConvergenceWarning: lbfgs failed to converge (status=1):\n",
      "STOP: TOTAL NO. of ITERATIONS REACHED LIMIT.\n",
      "\n",
      "Increase the number of iterations (max_iter) or scale the data as shown in:\n",
      "    https://scikit-learn.org/stable/modules/preprocessing.html\n",
      "Please also refer to the documentation for alternative solver options:\n",
      "    https://scikit-learn.org/stable/modules/linear_model.html#logistic-regression\n",
      "  n_iter_i = _check_optimize_result(\n"
     ]
    }
   ],
   "source": [
    "#logistic regression\n",
    "from sklearn.linear_model import LogisticRegression\n",
    "#creating an instance of the logistic regression model\n",
    "logistic_model = LogisticRegression(multi_class='multinomial')\n",
    "#training the model\n",
    "logistic_model.fit(x_train,y_train)\n",
    "#testing the model\n",
    "y_predict = logistic_model.predict(x_test)"
   ]
  },
  {
   "cell_type": "code",
   "execution_count": 60,
   "id": "2f79fa9d",
   "metadata": {},
   "outputs": [],
   "source": [
    "#check the performance of the model\n",
    "from sklearn.metrics import confusion_matrix,classification_report,accuracy_score, precision_score\n",
    "from sklearn.metrics import plot_confusion_matrix"
   ]
  },
  {
   "cell_type": "code",
   "execution_count": 61,
   "id": "edf2d6b8",
   "metadata": {},
   "outputs": [
    {
     "name": "stderr",
     "output_type": "stream",
     "text": [
      "C:\\Users\\anoop\\Downloads\\INDU\\lib\\site-packages\\sklearn\\metrics\\_classification.py:1245: UndefinedMetricWarning: Precision and F-score are ill-defined and being set to 0.0 in labels with no predicted samples. Use `zero_division` parameter to control this behavior.\n",
      "  _warn_prf(average, modifier, msg_start, len(result))\n",
      "C:\\Users\\anoop\\Downloads\\INDU\\lib\\site-packages\\sklearn\\metrics\\_classification.py:1245: UndefinedMetricWarning: Precision and F-score are ill-defined and being set to 0.0 in labels with no predicted samples. Use `zero_division` parameter to control this behavior.\n",
      "  _warn_prf(average, modifier, msg_start, len(result))\n",
      "C:\\Users\\anoop\\Downloads\\INDU\\lib\\site-packages\\sklearn\\metrics\\_classification.py:1245: UndefinedMetricWarning: Precision and F-score are ill-defined and being set to 0.0 in labels with no predicted samples. Use `zero_division` parameter to control this behavior.\n",
      "  _warn_prf(average, modifier, msg_start, len(result))\n"
     ]
    },
    {
     "name": "stdout",
     "output_type": "stream",
     "text": [
      "                         precision    recall  f1-score   support\n",
      "\n",
      "          Compact Sedan       0.00      0.00      0.00       325\n",
      "Compact Utility Vehicle       0.22      0.72      0.33       612\n",
      "            Convertible       0.00      0.00      0.00       182\n",
      "                  Coupe       0.00      0.00      0.00       110\n",
      "              Crossover       0.14      0.29      0.19       498\n",
      "              Hatchback       0.00      0.00      0.00       365\n",
      "           Luxury Coupe       0.00      0.00      0.00       200\n",
      "           Luxury Sedan       0.75      0.01      0.01       511\n",
      "                Minivan       0.00      0.00      0.00        65\n",
      "           Pickup-Truck       0.00      0.00      0.00       308\n",
      "                  Sedan       0.00      0.00      0.00       404\n",
      "           Sports Coupe       0.00      0.00      0.00       116\n",
      "           Sports Sedan       0.00      0.00      0.00       466\n",
      " Sports Utility Vehicle       0.24      0.86      0.37       733\n",
      "              Sportscar       0.00      0.00      0.00       185\n",
      "          Station Wagon       0.00      0.00      0.00       179\n",
      "        Utility Vehicle       0.00      0.00      0.00       439\n",
      "        Utility vehicle       0.00      0.00      0.00        63\n",
      "\n",
      "               accuracy                           0.21      5761\n",
      "              macro avg       0.07      0.10      0.05      5761\n",
      "           weighted avg       0.13      0.21      0.10      5761\n",
      "\n"
     ]
    },
    {
     "data": {
      "image/png": "[encoded data removed]",
      "text/plain": [
       "<Figure size 432x288 with 2 Axes>"
      ]
     },
     "metadata": {
      "needs_background": "light"
     },
     "output_type": "display_data"
    }
   ],
   "source": [
    "plot_confusion_matrix(logistic_model, x_test, y_test)\n",
    "print(classification_report(y_test,y_predict))"
   ]
  },
  {
   "cell_type": "code",
   "execution_count": 62,
   "id": "3ab7b6d0",
   "metadata": {},
   "outputs": [
    {
     "name": "stdout",
     "output_type": "stream",
     "text": [
      "21.124804721402533\n"
     ]
    }
   ],
   "source": [
    "Score=max(0,100*accuracy_score(y_test,y_predict))\n",
    "print(Score)"
   ]
  },
  {
   "cell_type": "markdown",
   "id": "522338ba",
   "metadata": {},
   "source": [
    "2.Decision Tree"
   ]
  },
  {
   "cell_type": "code",
   "execution_count": 63,
   "id": "e2c3b400",
   "metadata": {},
   "outputs": [],
   "source": [
    "from sklearn.tree import DecisionTreeClassifier"
   ]
  },
  {
   "cell_type": "code",
   "execution_count": 64,
   "id": "73a50513",
   "metadata": {},
   "outputs": [
    {
     "name": "stdout",
     "output_type": "stream",
     "text": [
      "[[312   6   0   0   1   2   0   0   0   0   2   0   0   0   0   0   2   0]\n",
      " [  3 585   0   2   1   3   0   1   1   0   4   0   8   0   0   1   3   0]\n",
      " [  0   0 169   0   0   0   8   1   0   1   0   1   0   1   1   0   0   0]\n",
      " [  0   1   0 103   4   0   0   0   0   0   2   0   0   0   0   0   0   0]\n",
      " [  3   7   0   3 441   3   0   7   0   2   5   0   3   5   0   0   2  17]\n",
      " [  6   4   0   0   0 351   0   0   0   0   0   0   0   1   0   3   0   0]\n",
      " [  0   0   3   1   0   0 193   1   0   1   0   0   0   0   1   0   0   0]\n",
      " [  0   0   1   0   5   0   4 468   2   2   0   0   2   7  17   1   2   0]\n",
      " [  0   1   0   0   1   0   0   0  62   0   0   0   0   1   0   0   0   0]\n",
      " [  1   4   0   0   2   0   1   1   0 276   1   0  11   6   0   0   5   0]\n",
      " [  1   6   0   1   9   1   0   1   0   3 376   0   1   3   1   0   1   0]\n",
      " [  0   0   0   0   0   0   0   1   0   0   0  99   4   0  12   0   0   0]\n",
      " [  1   4   0   0   7   0   0   4   0  25   2   0 415   8   0   0   0   0]\n",
      " [  0   0   1   3   5   1   1   4   0   5   5   0   2 696   2   5   3   0]\n",
      " [  0   0   1   0   3   0   3   9   0   2   0   3   0   3 161   0   0   0]\n",
      " [  1   2   0   0   1   1   0   1   1   0   0   2   0   3   0 165   1   1]\n",
      " [  3   2   1   0   5   0   1   2   0   3   3   1   1   1   0   1 413   2]\n",
      " [  0   0   0   0  21   1   0   0   0   0   0   0   0   1   0   1   0  39]]\n",
      "                         precision    recall  f1-score   support\n",
      "\n",
      "          Compact Sedan       0.94      0.96      0.95       325\n",
      "Compact Utility Vehicle       0.94      0.96      0.95       612\n",
      "            Convertible       0.96      0.93      0.94       182\n",
      "                  Coupe       0.91      0.94      0.92       110\n",
      "              Crossover       0.87      0.89      0.88       498\n",
      "              Hatchback       0.97      0.96      0.96       365\n",
      "           Luxury Coupe       0.91      0.96      0.94       200\n",
      "           Luxury Sedan       0.93      0.92      0.92       511\n",
      "                Minivan       0.94      0.95      0.95        65\n",
      "           Pickup-Truck       0.86      0.90      0.88       308\n",
      "                  Sedan       0.94      0.93      0.94       404\n",
      "           Sports Coupe       0.93      0.85      0.89       116\n",
      "           Sports Sedan       0.93      0.89      0.91       466\n",
      " Sports Utility Vehicle       0.95      0.95      0.95       733\n",
      "              Sportscar       0.83      0.87      0.85       185\n",
      "          Station Wagon       0.93      0.92      0.93       179\n",
      "        Utility Vehicle       0.96      0.94      0.95       439\n",
      "        Utility vehicle       0.66      0.62      0.64        63\n",
      "\n",
      "               accuracy                           0.92      5761\n",
      "              macro avg       0.91      0.91      0.91      5761\n",
      "           weighted avg       0.92      0.92      0.92      5761\n",
      "\n"
     ]
    }
   ],
   "source": [
    "dclf = DecisionTreeClassifier()\n",
    "model = dclf.fit(x_train,y_train)\n",
    "predictions = model.predict(x_test)\n",
    "print(confusion_matrix(y_test, predictions))\n",
    "print(classification_report(y_test, predictions))"
   ]
  },
  {
   "cell_type": "code",
   "execution_count": 65,
   "id": "74dba69a",
   "metadata": {},
   "outputs": [
    {
     "name": "stdout",
     "output_type": "stream",
     "text": [
      "92.41451136955389\n"
     ]
    }
   ],
   "source": [
    "Score=max(0,100*accuracy_score(y_test,predictions))\n",
    "print(Score)"
   ]
  },
  {
   "cell_type": "markdown",
   "id": "9b7e9d48",
   "metadata": {},
   "source": [
    "3.Random Forest Classifier"
   ]
  },
  {
   "cell_type": "code",
   "execution_count": 68,
   "id": "00ca1e6e",
   "metadata": {},
   "outputs": [
    {
     "name": "stdout",
     "output_type": "stream",
     "text": [
      "                         precision    recall  f1-score   support\n",
      "\n",
      "          Compact Sedan       0.96      0.97      0.96       325\n",
      "Compact Utility Vehicle       0.96      0.98      0.97       612\n",
      "            Convertible       0.99      0.96      0.97       182\n",
      "                  Coupe       0.97      0.97      0.97       110\n",
      "              Crossover       0.87      0.90      0.89       498\n",
      "              Hatchback       0.99      0.97      0.98       365\n",
      "           Luxury Coupe       0.96      0.97      0.97       200\n",
      "           Luxury Sedan       0.95      0.96      0.96       511\n",
      "                Minivan       0.98      0.94      0.96        65\n",
      "           Pickup-Truck       0.89      0.91      0.90       308\n",
      "                  Sedan       0.96      0.94      0.95       404\n",
      "           Sports Coupe       0.96      0.96      0.96       116\n",
      "           Sports Sedan       0.93      0.93      0.93       466\n",
      " Sports Utility Vehicle       0.98      0.96      0.97       733\n",
      "              Sportscar       0.98      0.88      0.92       185\n",
      "          Station Wagon       0.95      0.92      0.93       179\n",
      "        Utility Vehicle       0.95      0.95      0.95       439\n",
      "        Utility vehicle       0.57      0.62      0.59        63\n",
      "\n",
      "               accuracy                           0.94      5761\n",
      "              macro avg       0.93      0.93      0.93      5761\n",
      "           weighted avg       0.95      0.94      0.94      5761\n",
      "\n"
     ]
    },
    {
     "data": {
      "image/png": "[encoded data removed]",
      "text/plain": [
       "<Figure size 432x288 with 2 Axes>"
      ]
     },
     "metadata": {
      "needs_background": "light"
     },
     "output_type": "display_data"
    }
   ],
   "source": [
    "from sklearn.ensemble import RandomForestClassifier\n",
    "rndmclf=RandomForestClassifier(n_estimators=50)\n",
    "model = rndmclf.fit(x_train,y_train)\n",
    "predictions = model.predict(x_test)\n",
    "plot_confusion_matrix(rndmclf, x_test, y_test)\n",
    "print(classification_report(y_test, predictions))"
   ]
  },
  {
   "cell_type": "code",
   "execution_count": 69,
   "id": "dd4add0d",
   "metadata": {},
   "outputs": [
    {
     "name": "stdout",
     "output_type": "stream",
     "text": [
      "94.44540878319737\n"
     ]
    }
   ],
   "source": [
    "Score=max(0,100*accuracy_score(y_test,predictions))\n",
    "print(Score)"
   ]
  },
  {
   "cell_type": "markdown",
   "id": "bd1138ea",
   "metadata": {},
   "source": [
    "4.KNN"
   ]
  },
  {
   "cell_type": "code",
   "execution_count": 70,
   "id": "472552b0",
   "metadata": {},
   "outputs": [],
   "source": [
    "from sklearn.neighbors import KNeighborsClassifier"
   ]
  },
  {
   "cell_type": "code",
   "execution_count": 71,
   "id": "3603cd57",
   "metadata": {},
   "outputs": [
    {
     "data": {
      "text/plain": [
       "[0.1966672452699184,\n",
       " 0.19475785453914252,\n",
       " 0.2027425794132963,\n",
       " 0.2067349418503732,\n",
       " 0.2124631140427009,\n",
       " 0.21020656136087484,\n",
       " 0.21159520916507552,\n",
       " 0.21506682867557717,\n",
       " 0.21836486721055373,\n",
       " 0.22114216281895505,\n",
       " 0.21923277208817912,\n",
       " 0.22079500086790488]"
      ]
     },
     "execution_count": 71,
     "metadata": {},
     "output_type": "execute_result"
    }
   ],
   "source": [
    "# Identifty the best values for n_neighbors\n",
    "acc_values = []\n",
    "neighbors = np.arange(3,15)\n",
    "for k in neighbors:\n",
    "    kncdf = KNeighborsClassifier(n_neighbors=k,metric=\"minkowski\")\n",
    "    model = kncdf.fit(x_train,y_train)\n",
    "    predictions = model.predict(x_test)\n",
    "    acc_values.append(accuracy_score(y_test, predictions))\n",
    "    \n",
    "acc_values"
   ]
  },
  {
   "cell_type": "code",
   "execution_count": 72,
   "id": "b18c182d",
   "metadata": {},
   "outputs": [
    {
     "data": {
      "text/plain": [
       "Text(0, 0.5, 'Accuracy')"
      ]
     },
     "execution_count": 72,
     "metadata": {},
     "output_type": "execute_result"
    },
    {
     "data": {
      "image/png": "[encoded data removed]",
      "text/plain": [
       "<Figure size 432x288 with 1 Axes>"
      ]
     },
     "metadata": {
      "needs_background": "light"
     },
     "output_type": "display_data"
    }
   ],
   "source": [
    "plt.plot(neighbors,acc_values,'o-')\n",
    "plt.xlabel(\"K-value\")\n",
    "plt.ylabel(\"Accuracy\")"
   ]
  },
  {
   "cell_type": "code",
   "execution_count": 73,
   "id": "5b3c7cd8",
   "metadata": {},
   "outputs": [
    {
     "name": "stderr",
     "output_type": "stream",
     "text": [
      "C:\\Users\\anoop\\Downloads\\INDU\\lib\\site-packages\\sklearn\\metrics\\_classification.py:1245: UndefinedMetricWarning: Precision and F-score are ill-defined and being set to 0.0 in labels with no predicted samples. Use `zero_division` parameter to control this behavior.\n",
      "  _warn_prf(average, modifier, msg_start, len(result))\n",
      "C:\\Users\\anoop\\Downloads\\INDU\\lib\\site-packages\\sklearn\\metrics\\_classification.py:1245: UndefinedMetricWarning: Precision and F-score are ill-defined and being set to 0.0 in labels with no predicted samples. Use `zero_division` parameter to control this behavior.\n",
      "  _warn_prf(average, modifier, msg_start, len(result))\n",
      "C:\\Users\\anoop\\Downloads\\INDU\\lib\\site-packages\\sklearn\\metrics\\_classification.py:1245: UndefinedMetricWarning: Precision and F-score are ill-defined and being set to 0.0 in labels with no predicted samples. Use `zero_division` parameter to control this behavior.\n",
      "  _warn_prf(average, modifier, msg_start, len(result))\n"
     ]
    },
    {
     "name": "stdout",
     "output_type": "stream",
     "text": [
      "                         precision    recall  f1-score   support\n",
      "\n",
      "          Compact Sedan       0.43      0.40      0.41       325\n",
      "Compact Utility Vehicle       0.24      0.28      0.26       612\n",
      "            Convertible       0.12      0.09      0.10       182\n",
      "                  Coupe       0.12      0.05      0.07       110\n",
      "              Crossover       0.14      0.18      0.16       498\n",
      "              Hatchback       0.52      0.66      0.59       365\n",
      "           Luxury Coupe       0.15      0.10      0.12       200\n",
      "           Luxury Sedan       0.22      0.35      0.27       511\n",
      "                Minivan       0.00      0.00      0.00        65\n",
      "           Pickup-Truck       0.12      0.05      0.07       308\n",
      "                  Sedan       0.20      0.25      0.22       404\n",
      "           Sports Coupe       0.00      0.00      0.00       116\n",
      "           Sports Sedan       0.15      0.12      0.14       466\n",
      " Sports Utility Vehicle       0.25      0.34      0.29       733\n",
      "              Sportscar       0.06      0.02      0.03       185\n",
      "          Station Wagon       0.00      0.00      0.00       179\n",
      "        Utility Vehicle       0.18      0.17      0.18       439\n",
      "        Utility vehicle       0.10      0.02      0.03        63\n",
      "\n",
      "               accuracy                           0.24      5761\n",
      "              macro avg       0.17      0.17      0.16      5761\n",
      "           weighted avg       0.21      0.24      0.22      5761\n",
      "\n"
     ]
    },
    {
     "data": {
      "image/png": "[encoded data removed]",
      "text/plain": [
       "<Figure size 432x288 with 2 Axes>"
      ]
     },
     "metadata": {
      "needs_background": "light"
     },
     "output_type": "display_data"
    }
   ],
   "source": [
    "kncdf = KNeighborsClassifier(leaf_size=1,n_neighbors=12,metric=\"minkowski\",p=1)\n",
    "model = kncdf.fit(x_train,y_train)\n",
    "predictions = model.predict(x_test)\n",
    "plot_confusion_matrix(kncdf, x_test, y_test)\n",
    "print(classification_report(y_test, predictions))"
   ]
  },
  {
   "cell_type": "code",
   "execution_count": 74,
   "id": "d81f1c6b",
   "metadata": {},
   "outputs": [
    {
     "name": "stdout",
     "output_type": "stream",
     "text": [
      "23.624370768963722\n"
     ]
    }
   ],
   "source": [
    "Score=max(0,100*accuracy_score(y_test,predictions))\n",
    "print(Score)"
   ]
  },
  {
   "cell_type": "markdown",
   "id": "27ad976e",
   "metadata": {},
   "source": [
    "5.Gradient Boosting"
   ]
  },
  {
   "cell_type": "code",
   "execution_count": 75,
   "id": "05f8d8a2",
   "metadata": {},
   "outputs": [
    {
     "name": "stderr",
     "output_type": "stream",
     "text": [
      "C:\\Users\\anoop\\Downloads\\INDU\\lib\\site-packages\\sklearn\\metrics\\_classification.py:1245: UndefinedMetricWarning: Precision and F-score are ill-defined and being set to 0.0 in labels with no predicted samples. Use `zero_division` parameter to control this behavior.\n",
      "  _warn_prf(average, modifier, msg_start, len(result))\n",
      "C:\\Users\\anoop\\Downloads\\INDU\\lib\\site-packages\\sklearn\\metrics\\_classification.py:1245: UndefinedMetricWarning: Precision and F-score are ill-defined and being set to 0.0 in labels with no predicted samples. Use `zero_division` parameter to control this behavior.\n",
      "  _warn_prf(average, modifier, msg_start, len(result))\n",
      "C:\\Users\\anoop\\Downloads\\INDU\\lib\\site-packages\\sklearn\\metrics\\_classification.py:1245: UndefinedMetricWarning: Precision and F-score are ill-defined and being set to 0.0 in labels with no predicted samples. Use `zero_division` parameter to control this behavior.\n",
      "  _warn_prf(average, modifier, msg_start, len(result))\n"
     ]
    },
    {
     "name": "stdout",
     "output_type": "stream",
     "text": [
      "                         precision    recall  f1-score   support\n",
      "\n",
      "          Compact Sedan       0.35      0.84      0.49       325\n",
      "Compact Utility Vehicle       0.00      0.00      0.00       612\n",
      "            Convertible       0.00      0.00      0.00       182\n",
      "                  Coupe       0.00      0.00      0.00       110\n",
      "              Crossover       0.00      0.00      0.00       498\n",
      "              Hatchback       0.01      0.08      0.01       365\n",
      "           Luxury Coupe       0.00      0.00      0.00       200\n",
      "           Luxury Sedan       0.34      0.03      0.05       511\n",
      "                Minivan       0.00      0.00      0.00        65\n",
      "           Pickup-Truck       0.00      0.00      0.00       308\n",
      "                  Sedan       0.00      0.00      0.00       404\n",
      "           Sports Coupe       0.00      0.00      0.00       116\n",
      "           Sports Sedan       0.00      0.00      0.00       466\n",
      " Sports Utility Vehicle       0.00      0.00      0.00       733\n",
      "              Sportscar       0.00      0.00      0.00       185\n",
      "          Station Wagon       0.00      0.00      0.00       179\n",
      "        Utility Vehicle       0.00      0.00      0.00       439\n",
      "        Utility vehicle       0.00      0.00      0.00        63\n",
      "\n",
      "               accuracy                           0.06      5761\n",
      "              macro avg       0.04      0.05      0.03      5761\n",
      "           weighted avg       0.05      0.06      0.03      5761\n",
      "\n"
     ]
    },
    {
     "data": {
      "image/png": "[encoded data removed]",
      "text/plain": [
       "<Figure size 432x288 with 2 Axes>"
      ]
     },
     "metadata": {
      "needs_background": "light"
     },
     "output_type": "display_data"
    }
   ],
   "source": [
    "from sklearn.ensemble import GradientBoostingClassifier\n",
    "gbcls = GradientBoostingClassifier(n_estimators=100, learning_rate=1.0,\n",
    "     max_depth=1, random_state=0).fit(x_train, y_train)\n",
    "predictions = gbcls.predict(x_test)\n",
    "plot_confusion_matrix(gbcls, x_test, y_test)\n",
    "print(classification_report(y_test, predictions))"
   ]
  },
  {
   "cell_type": "code",
   "execution_count": 76,
   "id": "cb5d5ac5",
   "metadata": {},
   "outputs": [
    {
     "name": "stdout",
     "output_type": "stream",
     "text": [
      "5.502516924145113\n"
     ]
    }
   ],
   "source": [
    "Score=max(0,100*accuracy_score(y_test,predictions))\n",
    "print(Score)"
   ]
  },
  {
   "cell_type": "markdown",
   "id": "a1e6b769",
   "metadata": {},
   "source": [
    "We have made the following models with:\n",
    "    \n",
    "    1.Logistic Regression\n",
    "    \n",
    "    2.Decision Tree\n",
    "    \n",
    "    3.Random Forest\n",
    "    \n",
    "    4.KNN\n",
    "    \n",
    "    5.Gradient Boosting\n",
    "    \n",
    " And we obtained the highest score for the model with Random Forest Classifier.So we choose the model built with Random Foresrt Classifier   \n",
    "    "
   ]
  },
  {
   "cell_type": "markdown",
   "id": "8186b929",
   "metadata": {},
   "source": [
    "# Making Prediction"
   ]
  },
  {
   "cell_type": "code",
   "execution_count": 77,
   "id": "60774589",
   "metadata": {},
   "outputs": [],
   "source": [
    "test1=test_df.drop(['CustomerID'],axis=1)"
   ]
  },
  {
   "cell_type": "code",
   "execution_count": 78,
   "id": "1b6616e2",
   "metadata": {},
   "outputs": [],
   "source": [
    "#label encoding\n",
    "from sklearn.preprocessing import LabelEncoder\n",
    "label_en=LabelEncoder()\n",
    "for i in test1[['Gender','is_Married','City','job', 'is_physically_ok', 'has_taken_car_loan', 'preferable_fuel_choice']]:\n",
    "    test1[i]=label_en.fit_transform(test1[i])"
   ]
  },
  {
   "cell_type": "code",
   "execution_count": 80,
   "id": "e46aeaeb",
   "metadata": {},
   "outputs": [
    {
     "data": {
      "text/plain": [
       "Age                       67\n",
       "Gender                     0\n",
       "City                       0\n",
       "is_Married                 0\n",
       "family_size               73\n",
       "height                    67\n",
       "annual_income             78\n",
       "job                        0\n",
       "is_physically_ok           0\n",
       "has_taken_car_loan         0\n",
       "preferable_fuel_choice     0\n",
       "dtype: int64"
      ]
     },
     "execution_count": 80,
     "metadata": {},
     "output_type": "execute_result"
    }
   ],
   "source": [
    "test1.isna().sum()"
   ]
  },
  {
   "cell_type": "code",
   "execution_count": 81,
   "id": "5a93d455",
   "metadata": {},
   "outputs": [],
   "source": [
    "test1['Age'] =test1['Age'].fillna(test1['Age'].median())\n",
    "test1['family_size'] =test1['family_size'].fillna(test1['family_size'].median())\n",
    "test1['height'] =test1['height'].fillna(test1['height'].median())\n",
    "test1['annual_income'] =test1['annual_income'].fillna(test1['annual_income'].median())"
   ]
  },
  {
   "cell_type": "code",
   "execution_count": 82,
   "id": "48539169",
   "metadata": {},
   "outputs": [
    {
     "data": {
      "text/plain": [
       "Age                       0\n",
       "Gender                    0\n",
       "City                      0\n",
       "is_Married                0\n",
       "family_size               0\n",
       "height                    0\n",
       "annual_income             0\n",
       "job                       0\n",
       "is_physically_ok          0\n",
       "has_taken_car_loan        0\n",
       "preferable_fuel_choice    0\n",
       "dtype: int64"
      ]
     },
     "execution_count": 82,
     "metadata": {},
     "output_type": "execute_result"
    }
   ],
   "source": [
    "test1.isna().sum()"
   ]
  },
  {
   "cell_type": "code",
   "execution_count": 83,
   "id": "8e7c35a7",
   "metadata": {},
   "outputs": [],
   "source": [
    "from sklearn.ensemble import RandomForestClassifier\n",
    "rndmclf=RandomForestClassifier(n_estimators=50)\n",
    "model = rndmclf.fit(x_train,y_train)\n",
    "predictions = model.predict(x_test)"
   ]
  },
  {
   "cell_type": "code",
   "execution_count": 84,
   "id": "704056c2",
   "metadata": {},
   "outputs": [],
   "source": [
    "y_predict = model.predict(test1)"
   ]
  },
  {
   "cell_type": "code",
   "execution_count": 85,
   "id": "de99b069",
   "metadata": {},
   "outputs": [
    {
     "data": {
      "text/plain": [
       "array(['Sports Utility Vehicle', 'Utility Vehicle', 'Sports Sedan', ...,\n",
       "       'Pickup-Truck', 'Station Wagon', 'Crossover'], dtype=object)"
      ]
     },
     "execution_count": 85,
     "metadata": {},
     "output_type": "execute_result"
    }
   ],
   "source": [
    "y_predict"
   ]
  },
  {
   "cell_type": "code",
   "execution_count": 86,
   "id": "3cee195c",
   "metadata": {},
   "outputs": [],
   "source": [
    "test_df['vehicle_choice']=y_predict"
   ]
  },
  {
   "cell_type": "code",
   "execution_count": 87,
   "id": "58acf61a",
   "metadata": {},
   "outputs": [
    {
     "data": {
      "text/html": [
       "<div>\n",
       "<style scoped>\n",
       "    .dataframe tbody tr th:only-of-type {\n",
       "        vertical-align: middle;\n",
       "    }\n",
       "\n",
       "    .dataframe tbody tr th {\n",
       "        vertical-align: top;\n",
       "    }\n",
       "\n",
       "    .dataframe thead th {\n",
       "        text-align: right;\n",
       "    }\n",
       "</style>\n",
       "<table border=\"1\" class=\"dataframe\">\n",
       "  <thead>\n",
       "    <tr style=\"text-align: right;\">\n",
       "      <th></th>\n",
       "      <th>CustomerID</th>\n",
       "      <th>Age</th>\n",
       "      <th>Gender</th>\n",
       "      <th>City</th>\n",
       "      <th>is_Married</th>\n",
       "      <th>family_size</th>\n",
       "      <th>height</th>\n",
       "      <th>annual_income</th>\n",
       "      <th>job</th>\n",
       "      <th>is_physically_ok</th>\n",
       "      <th>has_taken_car_loan</th>\n",
       "      <th>preferable_fuel_choice</th>\n",
       "      <th>vehicle_choice</th>\n",
       "    </tr>\n",
       "  </thead>\n",
       "  <tbody>\n",
       "    <tr>\n",
       "      <th>0</th>\n",
       "      <td>CusID_30000</td>\n",
       "      <td>32.0</td>\n",
       "      <td>Female</td>\n",
       "      <td>Delhi</td>\n",
       "      <td>Married</td>\n",
       "      <td>6.0</td>\n",
       "      <td>142.0</td>\n",
       "      <td>150800.0</td>\n",
       "      <td>Service</td>\n",
       "      <td>Yes</td>\n",
       "      <td>No</td>\n",
       "      <td>Diesel</td>\n",
       "      <td>Sports Utility Vehicle</td>\n",
       "    </tr>\n",
       "    <tr>\n",
       "      <th>1</th>\n",
       "      <td>CusID_30001</td>\n",
       "      <td>22.0</td>\n",
       "      <td>Male</td>\n",
       "      <td>Perth</td>\n",
       "      <td>Divorced</td>\n",
       "      <td>4.0</td>\n",
       "      <td>155.0</td>\n",
       "      <td>167000.0</td>\n",
       "      <td>Service</td>\n",
       "      <td>Yes</td>\n",
       "      <td>No</td>\n",
       "      <td>Petrol</td>\n",
       "      <td>Utility Vehicle</td>\n",
       "    </tr>\n",
       "    <tr>\n",
       "      <th>2</th>\n",
       "      <td>CusID_30002</td>\n",
       "      <td>46.0</td>\n",
       "      <td>Female</td>\n",
       "      <td>Barcelona</td>\n",
       "      <td>Married</td>\n",
       "      <td>2.0</td>\n",
       "      <td>NaN</td>\n",
       "      <td>66000.0</td>\n",
       "      <td>Service</td>\n",
       "      <td>Yes</td>\n",
       "      <td>No</td>\n",
       "      <td>Petrol</td>\n",
       "      <td>Sports Sedan</td>\n",
       "    </tr>\n",
       "    <tr>\n",
       "      <th>3</th>\n",
       "      <td>CusID_30003</td>\n",
       "      <td>35.0</td>\n",
       "      <td>NaN</td>\n",
       "      <td>Kuala Lampur</td>\n",
       "      <td>Single</td>\n",
       "      <td>1.0</td>\n",
       "      <td>137.0</td>\n",
       "      <td>71820.0</td>\n",
       "      <td>Business</td>\n",
       "      <td>Yes</td>\n",
       "      <td>NaN</td>\n",
       "      <td>Petrol</td>\n",
       "      <td>Sports Utility Vehicle</td>\n",
       "    </tr>\n",
       "    <tr>\n",
       "      <th>4</th>\n",
       "      <td>CusID_30004</td>\n",
       "      <td>48.0</td>\n",
       "      <td>Male</td>\n",
       "      <td>Sydney</td>\n",
       "      <td>Married</td>\n",
       "      <td>3.0</td>\n",
       "      <td>162.0</td>\n",
       "      <td>6500.0</td>\n",
       "      <td>Service</td>\n",
       "      <td>Yes</td>\n",
       "      <td>Yes</td>\n",
       "      <td>Hybrid</td>\n",
       "      <td>Hatchback</td>\n",
       "    </tr>\n",
       "  </tbody>\n",
       "</table>\n",
       "</div>"
      ],
      "text/plain": [
       "    CustomerID   Age  Gender          City is_Married  family_size  height  \\\n",
       "0  CusID_30000  32.0  Female         Delhi    Married          6.0   142.0   \n",
       "1  CusID_30001  22.0    Male         Perth   Divorced          4.0   155.0   \n",
       "2  CusID_30002  46.0  Female     Barcelona    Married          2.0     NaN   \n",
       "3  CusID_30003  35.0     NaN  Kuala Lampur     Single          1.0   137.0   \n",
       "4  CusID_30004  48.0    Male        Sydney    Married          3.0   162.0   \n",
       "\n",
       "   annual_income       job is_physically_ok has_taken_car_loan  \\\n",
       "0       150800.0   Service              Yes                 No   \n",
       "1       167000.0   Service              Yes                 No   \n",
       "2        66000.0   Service              Yes                 No   \n",
       "3        71820.0  Business              Yes                NaN   \n",
       "4         6500.0   Service              Yes                Yes   \n",
       "\n",
       "  preferable_fuel_choice          vehicle_choice  \n",
       "0                 Diesel  Sports Utility Vehicle  \n",
       "1                 Petrol         Utility Vehicle  \n",
       "2                 Petrol            Sports Sedan  \n",
       "3                 Petrol  Sports Utility Vehicle  \n",
       "4                 Hybrid               Hatchback  "
      ]
     },
     "execution_count": 87,
     "metadata": {},
     "output_type": "execute_result"
    }
   ],
   "source": [
    "test_df.head()"
   ]
  },
  {
   "cell_type": "code",
   "execution_count": 88,
   "id": "e7ca415d",
   "metadata": {},
   "outputs": [],
   "source": [
    "sample=test_df[['CustomerID','vehicle_choice']]"
   ]
  },
  {
   "cell_type": "code",
   "execution_count": 89,
   "id": "f7c241d7",
   "metadata": {},
   "outputs": [
    {
     "data": {
      "text/html": [
       "<div>\n",
       "<style scoped>\n",
       "    .dataframe tbody tr th:only-of-type {\n",
       "        vertical-align: middle;\n",
       "    }\n",
       "\n",
       "    .dataframe tbody tr th {\n",
       "        vertical-align: top;\n",
       "    }\n",
       "\n",
       "    .dataframe thead th {\n",
       "        text-align: right;\n",
       "    }\n",
       "</style>\n",
       "<table border=\"1\" class=\"dataframe\">\n",
       "  <thead>\n",
       "    <tr style=\"text-align: right;\">\n",
       "      <th></th>\n",
       "      <th>CustomerID</th>\n",
       "      <th>vehicle_choice</th>\n",
       "    </tr>\n",
       "  </thead>\n",
       "  <tbody>\n",
       "    <tr>\n",
       "      <th>0</th>\n",
       "      <td>CusID_30000</td>\n",
       "      <td>Sports Utility Vehicle</td>\n",
       "    </tr>\n",
       "    <tr>\n",
       "      <th>1</th>\n",
       "      <td>CusID_30001</td>\n",
       "      <td>Utility Vehicle</td>\n",
       "    </tr>\n",
       "    <tr>\n",
       "      <th>2</th>\n",
       "      <td>CusID_30002</td>\n",
       "      <td>Sports Sedan</td>\n",
       "    </tr>\n",
       "    <tr>\n",
       "      <th>3</th>\n",
       "      <td>CusID_30003</td>\n",
       "      <td>Sports Utility Vehicle</td>\n",
       "    </tr>\n",
       "    <tr>\n",
       "      <th>4</th>\n",
       "      <td>CusID_30004</td>\n",
       "      <td>Hatchback</td>\n",
       "    </tr>\n",
       "    <tr>\n",
       "      <th>...</th>\n",
       "      <td>...</td>\n",
       "      <td>...</td>\n",
       "    </tr>\n",
       "    <tr>\n",
       "      <th>4995</th>\n",
       "      <td>CusID_34995</td>\n",
       "      <td>Compact Utility Vehicle</td>\n",
       "    </tr>\n",
       "    <tr>\n",
       "      <th>4996</th>\n",
       "      <td>CusID_34996</td>\n",
       "      <td>Sports Sedan</td>\n",
       "    </tr>\n",
       "    <tr>\n",
       "      <th>4997</th>\n",
       "      <td>CusID_34997</td>\n",
       "      <td>Pickup-Truck</td>\n",
       "    </tr>\n",
       "    <tr>\n",
       "      <th>4998</th>\n",
       "      <td>CusID_34998</td>\n",
       "      <td>Station Wagon</td>\n",
       "    </tr>\n",
       "    <tr>\n",
       "      <th>4999</th>\n",
       "      <td>CusID_34999</td>\n",
       "      <td>Crossover</td>\n",
       "    </tr>\n",
       "  </tbody>\n",
       "</table>\n",
       "<p>5000 rows × 2 columns</p>\n",
       "</div>"
      ],
      "text/plain": [
       "       CustomerID           vehicle_choice\n",
       "0     CusID_30000   Sports Utility Vehicle\n",
       "1     CusID_30001          Utility Vehicle\n",
       "2     CusID_30002             Sports Sedan\n",
       "3     CusID_30003   Sports Utility Vehicle\n",
       "4     CusID_30004                Hatchback\n",
       "...           ...                      ...\n",
       "4995  CusID_34995  Compact Utility Vehicle\n",
       "4996  CusID_34996             Sports Sedan\n",
       "4997  CusID_34997             Pickup-Truck\n",
       "4998  CusID_34998            Station Wagon\n",
       "4999  CusID_34999                Crossover\n",
       "\n",
       "[5000 rows x 2 columns]"
      ]
     },
     "execution_count": 89,
     "metadata": {},
     "output_type": "execute_result"
    }
   ],
   "source": [
    "sample"
   ]
  },
  {
   "cell_type": "code",
   "execution_count": 90,
   "id": "10934a2b",
   "metadata": {},
   "outputs": [],
   "source": [
    "sample.to_csv('sample.csv',index=False)"
   ]
  },
  {
   "cell_type": "code",
   "execution_count": null,
   "id": "c4f1d80e",
   "metadata": {},
   "outputs": [],
   "source": []
  }
 ],
 "metadata": {
  "kernelspec": {
   "display_name": "Python 3",
   "language": "python",
   "name": "python3"
  },
  "language_info": {
   "codemirror_mode": {
    "name": "ipython",
    "version": 3
   },
   "file_extension": ".py",
   "mimetype": "text/x-python",
   "name": "python",
   "nbconvert_exporter": "python",
   "pygments_lexer": "ipython3",
   "version": "3.8.8"
  }
 },
 "nbformat": 4,
 "nbformat_minor": 5
}
