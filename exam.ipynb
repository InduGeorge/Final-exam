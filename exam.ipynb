{
 "cells": [
  {
   "cell_type": "code",
   "execution_count": 1,
   "id": "5201a2c2",
   "metadata": {},
   "outputs": [],
   "source": [
    "import pandas as pd\n",
    "import numpy as np\n",
    "import matplotlib.pyplot as plt\n",
    "import seaborn as sns"
   ]
  },
  {
   "cell_type": "code",
   "execution_count": 2,
   "id": "44d4add1",
   "metadata": {},
   "outputs": [
    {
     "data": {
      "text/html": [
       "<div>\n",
       "<style scoped>\n",
       "    .dataframe tbody tr th:only-of-type {\n",
       "        vertical-align: middle;\n",
       "    }\n",
       "\n",
       "    .dataframe tbody tr th {\n",
       "        vertical-align: top;\n",
       "    }\n",
       "\n",
       "    .dataframe thead th {\n",
       "        text-align: right;\n",
       "    }\n",
       "</style>\n",
       "<table border=\"1\" class=\"dataframe\">\n",
       "  <thead>\n",
       "    <tr style=\"text-align: right;\">\n",
       "      <th></th>\n",
       "      <th>ID</th>\n",
       "      <th>Place</th>\n",
       "      <th>location</th>\n",
       "      <th>date</th>\n",
       "      <th>status</th>\n",
       "      <th>job_title</th>\n",
       "      <th>summary</th>\n",
       "      <th>positives</th>\n",
       "      <th>negatives</th>\n",
       "      <th>advice_to_mgmt</th>\n",
       "      <th>score_1</th>\n",
       "      <th>score_2</th>\n",
       "      <th>score_3</th>\n",
       "      <th>score_4</th>\n",
       "      <th>score_5</th>\n",
       "      <th>score_6</th>\n",
       "      <th>overall</th>\n",
       "    </tr>\n",
       "  </thead>\n",
       "  <tbody>\n",
       "    <tr>\n",
       "      <th>0</th>\n",
       "      <td>1</td>\n",
       "      <td>startup_1</td>\n",
       "      <td>NaN</td>\n",
       "      <td>Dec 11, 2018</td>\n",
       "      <td>Current Employee</td>\n",
       "      <td>Anonymous Employee</td>\n",
       "      <td>Best Company to work for</td>\n",
       "      <td>People are smart and friendly</td>\n",
       "      <td>Bureaucracy is slowing things down</td>\n",
       "      <td>NaN</td>\n",
       "      <td>4.0</td>\n",
       "      <td>5.0</td>\n",
       "      <td>5.0</td>\n",
       "      <td>4.0</td>\n",
       "      <td>5.0</td>\n",
       "      <td>0</td>\n",
       "      <td>5.0</td>\n",
       "    </tr>\n",
       "    <tr>\n",
       "      <th>1</th>\n",
       "      <td>2</td>\n",
       "      <td>startup_1</td>\n",
       "      <td>Mountain View, CA</td>\n",
       "      <td>Jun 21, 2013</td>\n",
       "      <td>Former Employee</td>\n",
       "      <td>Program Manager</td>\n",
       "      <td>Moving at the speed of light, burn out is inev...</td>\n",
       "      <td>1) Food, food, food. 15+ cafes on main campus ...</td>\n",
       "      <td>1) Work/life balance. What balance? All those ...</td>\n",
       "      <td>1) Don't dismiss emotional intelligence and ad...</td>\n",
       "      <td>2.0</td>\n",
       "      <td>3.0</td>\n",
       "      <td>3.0</td>\n",
       "      <td>5.0</td>\n",
       "      <td>3.0</td>\n",
       "      <td>2094</td>\n",
       "      <td>5.0</td>\n",
       "    </tr>\n",
       "    <tr>\n",
       "      <th>2</th>\n",
       "      <td>3</td>\n",
       "      <td>startup_1</td>\n",
       "      <td>New York, NY</td>\n",
       "      <td>May 10, 2014</td>\n",
       "      <td>Current Employee</td>\n",
       "      <td>Software Engineer III</td>\n",
       "      <td>Great balance between big-company security and...</td>\n",
       "      <td>* If you're a software engineer, you're among ...</td>\n",
       "      <td>* It *is* becoming larger, and with it comes g...</td>\n",
       "      <td>Keep the focus on the user. Everything else wi...</td>\n",
       "      <td>5.0</td>\n",
       "      <td>4.0</td>\n",
       "      <td>5.0</td>\n",
       "      <td>5.0</td>\n",
       "      <td>4.0</td>\n",
       "      <td>949</td>\n",
       "      <td>5.0</td>\n",
       "    </tr>\n",
       "    <tr>\n",
       "      <th>3</th>\n",
       "      <td>4</td>\n",
       "      <td>startup_1</td>\n",
       "      <td>Mountain View, CA</td>\n",
       "      <td>Feb 8, 2015</td>\n",
       "      <td>Current Employee</td>\n",
       "      <td>Anonymous Employee</td>\n",
       "      <td>The best place I've worked and also the most d...</td>\n",
       "      <td>You can't find a more well-regarded company th...</td>\n",
       "      <td>I live in SF so the commute can take between 1...</td>\n",
       "      <td>Keep on NOT micromanaging - that is a huge ben...</td>\n",
       "      <td>2.0</td>\n",
       "      <td>5.0</td>\n",
       "      <td>5.0</td>\n",
       "      <td>4.0</td>\n",
       "      <td>5.0</td>\n",
       "      <td>498</td>\n",
       "      <td>4.0</td>\n",
       "    </tr>\n",
       "    <tr>\n",
       "      <th>4</th>\n",
       "      <td>10</td>\n",
       "      <td>startup_1</td>\n",
       "      <td>NaN</td>\n",
       "      <td>Dec 9, 2018</td>\n",
       "      <td>Current Employee</td>\n",
       "      <td>Anonymous Employee</td>\n",
       "      <td>Execellent for engineers</td>\n",
       "      <td>Impact driven. Best tech in the world.</td>\n",
       "      <td>Size matters. Engineers are a bit disconnected...</td>\n",
       "      <td>NaN</td>\n",
       "      <td>5.0</td>\n",
       "      <td>5.0</td>\n",
       "      <td>5.0</td>\n",
       "      <td>5.0</td>\n",
       "      <td>5.0</td>\n",
       "      <td>0</td>\n",
       "      <td>4.0</td>\n",
       "    </tr>\n",
       "  </tbody>\n",
       "</table>\n",
       "</div>"
      ],
      "text/plain": [
       "   ID      Place           location           date             status  \\\n",
       "0   1  startup_1                NaN   Dec 11, 2018  Current Employee    \n",
       "1   2  startup_1  Mountain View, CA   Jun 21, 2013   Former Employee    \n",
       "2   3  startup_1       New York, NY   May 10, 2014  Current Employee    \n",
       "3   4  startup_1  Mountain View, CA    Feb 8, 2015  Current Employee    \n",
       "4  10  startup_1                NaN    Dec 9, 2018  Current Employee    \n",
       "\n",
       "                job_title                                            summary  \\\n",
       "0      Anonymous Employee                           Best Company to work for   \n",
       "1         Program Manager  Moving at the speed of light, burn out is inev...   \n",
       "2   Software Engineer III  Great balance between big-company security and...   \n",
       "3      Anonymous Employee  The best place I've worked and also the most d...   \n",
       "4      Anonymous Employee                           Execellent for engineers   \n",
       "\n",
       "                                           positives  \\\n",
       "0                      People are smart and friendly   \n",
       "1  1) Food, food, food. 15+ cafes on main campus ...   \n",
       "2  * If you're a software engineer, you're among ...   \n",
       "3  You can't find a more well-regarded company th...   \n",
       "4             Impact driven. Best tech in the world.   \n",
       "\n",
       "                                           negatives  \\\n",
       "0                 Bureaucracy is slowing things down   \n",
       "1  1) Work/life balance. What balance? All those ...   \n",
       "2  * It *is* becoming larger, and with it comes g...   \n",
       "3  I live in SF so the commute can take between 1...   \n",
       "4  Size matters. Engineers are a bit disconnected...   \n",
       "\n",
       "                                      advice_to_mgmt  score_1  score_2  \\\n",
       "0                                                NaN      4.0      5.0   \n",
       "1  1) Don't dismiss emotional intelligence and ad...      2.0      3.0   \n",
       "2  Keep the focus on the user. Everything else wi...      5.0      4.0   \n",
       "3  Keep on NOT micromanaging - that is a huge ben...      2.0      5.0   \n",
       "4                                                NaN      5.0      5.0   \n",
       "\n",
       "   score_3  score_4  score_5  score_6  overall  \n",
       "0      5.0      4.0      5.0        0      5.0  \n",
       "1      3.0      5.0      3.0     2094      5.0  \n",
       "2      5.0      5.0      4.0      949      5.0  \n",
       "3      5.0      4.0      5.0      498      4.0  \n",
       "4      5.0      5.0      5.0        0      4.0  "
      ]
     },
     "execution_count": 2,
     "metadata": {},
     "output_type": "execute_result"
    }
   ],
   "source": [
    "train_data=pd.read_csv(r'C:\\Users\\anoop\\OneDrive\\Desktop\\Downloads\\c7307096abf311ec\\NLP_Data\\train.csv')\n",
    "train_data.head()"
   ]
  },
  {
   "cell_type": "code",
   "execution_count": 3,
   "id": "26fdba47",
   "metadata": {},
   "outputs": [
    {
     "data": {
      "text/html": [
       "<div>\n",
       "<style scoped>\n",
       "    .dataframe tbody tr th:only-of-type {\n",
       "        vertical-align: middle;\n",
       "    }\n",
       "\n",
       "    .dataframe tbody tr th {\n",
       "        vertical-align: top;\n",
       "    }\n",
       "\n",
       "    .dataframe thead th {\n",
       "        text-align: right;\n",
       "    }\n",
       "</style>\n",
       "<table border=\"1\" class=\"dataframe\">\n",
       "  <thead>\n",
       "    <tr style=\"text-align: right;\">\n",
       "      <th></th>\n",
       "      <th>ID</th>\n",
       "      <th>Place</th>\n",
       "      <th>location</th>\n",
       "      <th>date</th>\n",
       "      <th>status</th>\n",
       "      <th>job_title</th>\n",
       "      <th>summary</th>\n",
       "      <th>positives</th>\n",
       "      <th>negatives</th>\n",
       "      <th>advice_to_mgmt</th>\n",
       "      <th>score_1</th>\n",
       "      <th>score_2</th>\n",
       "      <th>score_3</th>\n",
       "      <th>score_4</th>\n",
       "      <th>score_5</th>\n",
       "      <th>score_6</th>\n",
       "    </tr>\n",
       "  </thead>\n",
       "  <tbody>\n",
       "    <tr>\n",
       "      <th>0</th>\n",
       "      <td>5</td>\n",
       "      <td>startup_1</td>\n",
       "      <td>Los Angeles, CA</td>\n",
       "      <td>Jul 19, 2018</td>\n",
       "      <td>Former Employee</td>\n",
       "      <td>Software Engineer</td>\n",
       "      <td>Unique, one of a kind dream job</td>\n",
       "      <td>Google is a world of its own. At every other c...</td>\n",
       "      <td>If you don't work in MTV (HQ), you will be giv...</td>\n",
       "      <td>Promote managers into management for their man...</td>\n",
       "      <td>5</td>\n",
       "      <td>5</td>\n",
       "      <td>5</td>\n",
       "      <td>5</td>\n",
       "      <td>5</td>\n",
       "      <td>49</td>\n",
       "    </tr>\n",
       "    <tr>\n",
       "      <th>1</th>\n",
       "      <td>6</td>\n",
       "      <td>startup_1</td>\n",
       "      <td>Mountain View, CA</td>\n",
       "      <td>Dec 9, 2018</td>\n",
       "      <td>Former Employee</td>\n",
       "      <td>SDE2</td>\n",
       "      <td>NICE working in GOOGLE as an INTERN</td>\n",
       "      <td>People are not that busy, so they are nice to ...</td>\n",
       "      <td>Food is not good as I expected. People said it...</td>\n",
       "      <td>NaN</td>\n",
       "      <td>4</td>\n",
       "      <td>4</td>\n",
       "      <td>4</td>\n",
       "      <td>5</td>\n",
       "      <td>4</td>\n",
       "      <td>1</td>\n",
       "    </tr>\n",
       "    <tr>\n",
       "      <th>2</th>\n",
       "      <td>7</td>\n",
       "      <td>startup_1</td>\n",
       "      <td>New York, NY</td>\n",
       "      <td>Dec 11, 2018</td>\n",
       "      <td>Current Employee</td>\n",
       "      <td>Software Engineer</td>\n",
       "      <td>Software engineer</td>\n",
       "      <td>Great working environment. Good work life balance</td>\n",
       "      <td>Usual big company problems. Hierarchy.</td>\n",
       "      <td>NaN</td>\n",
       "      <td>5</td>\n",
       "      <td>4</td>\n",
       "      <td>4</td>\n",
       "      <td>5</td>\n",
       "      <td>4</td>\n",
       "      <td>0</td>\n",
       "    </tr>\n",
       "    <tr>\n",
       "      <th>3</th>\n",
       "      <td>8</td>\n",
       "      <td>startup_1</td>\n",
       "      <td>NaN</td>\n",
       "      <td>Dec 11, 2018</td>\n",
       "      <td>Former Employee</td>\n",
       "      <td>Anonymous Employee</td>\n",
       "      <td>great place to work and progress</td>\n",
       "      <td>work culture, benefits, growth, people,</td>\n",
       "      <td>No cons that i can think of</td>\n",
       "      <td>NaN</td>\n",
       "      <td>5</td>\n",
       "      <td>5</td>\n",
       "      <td>5</td>\n",
       "      <td>5</td>\n",
       "      <td>5</td>\n",
       "      <td>0</td>\n",
       "    </tr>\n",
       "    <tr>\n",
       "      <th>4</th>\n",
       "      <td>9</td>\n",
       "      <td>startup_1</td>\n",
       "      <td>New York, NY</td>\n",
       "      <td>Dec 10, 2018</td>\n",
       "      <td>Current Employee</td>\n",
       "      <td>Anonymous Employee</td>\n",
       "      <td>Google Surpasses Realistic Expectations</td>\n",
       "      <td>Great products. Vision you can feel good about...</td>\n",
       "      <td>Younger employees complaining about the compan...</td>\n",
       "      <td>NaN</td>\n",
       "      <td>5</td>\n",
       "      <td>5</td>\n",
       "      <td>5</td>\n",
       "      <td>5</td>\n",
       "      <td>5</td>\n",
       "      <td>0</td>\n",
       "    </tr>\n",
       "  </tbody>\n",
       "</table>\n",
       "</div>"
      ],
      "text/plain": [
       "   ID      Place           location           date             status  \\\n",
       "0   5  startup_1    Los Angeles, CA   Jul 19, 2018   Former Employee    \n",
       "1   6  startup_1  Mountain View, CA    Dec 9, 2018   Former Employee    \n",
       "2   7  startup_1       New York, NY   Dec 11, 2018  Current Employee    \n",
       "3   8  startup_1                NaN   Dec 11, 2018   Former Employee    \n",
       "4   9  startup_1       New York, NY   Dec 10, 2018  Current Employee    \n",
       "\n",
       "             job_title                                  summary  \\\n",
       "0    Software Engineer          Unique, one of a kind dream job   \n",
       "1                 SDE2      NICE working in GOOGLE as an INTERN   \n",
       "2    Software Engineer                        Software engineer   \n",
       "3   Anonymous Employee         great place to work and progress   \n",
       "4   Anonymous Employee  Google Surpasses Realistic Expectations   \n",
       "\n",
       "                                           positives  \\\n",
       "0  Google is a world of its own. At every other c...   \n",
       "1  People are not that busy, so they are nice to ...   \n",
       "2  Great working environment. Good work life balance   \n",
       "3            work culture, benefits, growth, people,   \n",
       "4  Great products. Vision you can feel good about...   \n",
       "\n",
       "                                           negatives  \\\n",
       "0  If you don't work in MTV (HQ), you will be giv...   \n",
       "1  Food is not good as I expected. People said it...   \n",
       "2             Usual big company problems. Hierarchy.   \n",
       "3                        No cons that i can think of   \n",
       "4  Younger employees complaining about the compan...   \n",
       "\n",
       "                                      advice_to_mgmt  score_1  score_2  \\\n",
       "0  Promote managers into management for their man...        5        5   \n",
       "1                                                NaN        4        4   \n",
       "2                                                NaN        5        4   \n",
       "3                                                NaN        5        5   \n",
       "4                                                NaN        5        5   \n",
       "\n",
       "   score_3  score_4  score_5  score_6  \n",
       "0        5        5        5       49  \n",
       "1        4        5        4        1  \n",
       "2        4        5        4        0  \n",
       "3        5        5        5        0  \n",
       "4        5        5        5        0  "
      ]
     },
     "execution_count": 3,
     "metadata": {},
     "output_type": "execute_result"
    }
   ],
   "source": [
    "test_data=pd.read_csv(r'C:\\Users\\anoop\\OneDrive\\Desktop\\Downloads\\c7307096abf311ec\\NLP_Data\\test.csv')\n",
    "test_data.head()"
   ]
  },
  {
   "cell_type": "code",
   "execution_count": 4,
   "id": "e3dc4964",
   "metadata": {},
   "outputs": [
    {
     "data": {
      "text/plain": [
       "(30336, 17)"
      ]
     },
     "execution_count": 4,
     "metadata": {},
     "output_type": "execute_result"
    }
   ],
   "source": [
    "train_data.shape"
   ]
  },
  {
   "cell_type": "code",
   "execution_count": 5,
   "id": "73313b88",
   "metadata": {},
   "outputs": [
    {
     "data": {
      "text/plain": [
       "Index(['ID', 'Place', 'location', 'date', 'status', 'job_title', 'summary',\n",
       "       'positives', 'negatives', 'advice_to_mgmt', 'score_1', 'score_2',\n",
       "       'score_3', 'score_4', 'score_5', 'score_6', 'overall'],\n",
       "      dtype='object')"
      ]
     },
     "execution_count": 5,
     "metadata": {},
     "output_type": "execute_result"
    }
   ],
   "source": [
    "train_data.columns"
   ]
  },
  {
   "cell_type": "code",
   "execution_count": 6,
   "id": "689eca20",
   "metadata": {},
   "outputs": [
    {
     "name": "stdout",
     "output_type": "stream",
     "text": [
      "<class 'pandas.core.frame.DataFrame'>\n",
      "RangeIndex: 30336 entries, 0 to 30335\n",
      "Data columns (total 17 columns):\n",
      " #   Column          Non-Null Count  Dtype  \n",
      "---  ------          --------------  -----  \n",
      " 0   ID              30336 non-null  int64  \n",
      " 1   Place           30336 non-null  object \n",
      " 2   location        19082 non-null  object \n",
      " 3   date            30336 non-null  object \n",
      " 4   status          30336 non-null  object \n",
      " 5   job_title       30336 non-null  object \n",
      " 6   summary         30284 non-null  object \n",
      " 7   positives       30336 non-null  object \n",
      " 8   negatives       30336 non-null  object \n",
      " 9   advice_to_mgmt  17059 non-null  object \n",
      " 10  score_1         27150 non-null  float64\n",
      " 11  score_2         24286 non-null  float64\n",
      " 12  score_3         27167 non-null  float64\n",
      " 13  score_4         27145 non-null  float64\n",
      " 14  score_5         26851 non-null  float64\n",
      " 15  score_6         30336 non-null  int64  \n",
      " 16  overall         30336 non-null  float64\n",
      "dtypes: float64(6), int64(2), object(9)\n",
      "memory usage: 3.9+ MB\n"
     ]
    }
   ],
   "source": [
    "train_data.info()"
   ]
  },
  {
   "cell_type": "code",
   "execution_count": 7,
   "id": "53fdc202",
   "metadata": {},
   "outputs": [
    {
     "data": {
      "text/html": [
       "<div>\n",
       "<style scoped>\n",
       "    .dataframe tbody tr th:only-of-type {\n",
       "        vertical-align: middle;\n",
       "    }\n",
       "\n",
       "    .dataframe tbody tr th {\n",
       "        vertical-align: top;\n",
       "    }\n",
       "\n",
       "    .dataframe thead th {\n",
       "        text-align: right;\n",
       "    }\n",
       "</style>\n",
       "<table border=\"1\" class=\"dataframe\">\n",
       "  <thead>\n",
       "    <tr style=\"text-align: right;\">\n",
       "      <th></th>\n",
       "      <th>ID</th>\n",
       "      <th>score_1</th>\n",
       "      <th>score_2</th>\n",
       "      <th>score_3</th>\n",
       "      <th>score_4</th>\n",
       "      <th>score_5</th>\n",
       "      <th>score_6</th>\n",
       "      <th>overall</th>\n",
       "    </tr>\n",
       "  </thead>\n",
       "  <tbody>\n",
       "    <tr>\n",
       "      <th>count</th>\n",
       "      <td>30336.000000</td>\n",
       "      <td>27150.000000</td>\n",
       "      <td>24286.000000</td>\n",
       "      <td>27167.000000</td>\n",
       "      <td>27145.000000</td>\n",
       "      <td>26851.000000</td>\n",
       "      <td>30336.000000</td>\n",
       "      <td>30336.000000</td>\n",
       "    </tr>\n",
       "    <tr>\n",
       "      <th>mean</th>\n",
       "      <td>33998.602716</td>\n",
       "      <td>3.370460</td>\n",
       "      <td>3.784773</td>\n",
       "      <td>3.630047</td>\n",
       "      <td>3.943986</td>\n",
       "      <td>3.322446</td>\n",
       "      <td>1.388482</td>\n",
       "      <td>3.588179</td>\n",
       "    </tr>\n",
       "    <tr>\n",
       "      <th>std</th>\n",
       "      <td>19506.284643</td>\n",
       "      <td>1.301983</td>\n",
       "      <td>1.300164</td>\n",
       "      <td>1.225714</td>\n",
       "      <td>1.043053</td>\n",
       "      <td>1.314696</td>\n",
       "      <td>21.390609</td>\n",
       "      <td>0.996981</td>\n",
       "    </tr>\n",
       "    <tr>\n",
       "      <th>min</th>\n",
       "      <td>1.000000</td>\n",
       "      <td>1.000000</td>\n",
       "      <td>1.000000</td>\n",
       "      <td>1.000000</td>\n",
       "      <td>1.000000</td>\n",
       "      <td>1.000000</td>\n",
       "      <td>0.000000</td>\n",
       "      <td>1.000000</td>\n",
       "    </tr>\n",
       "    <tr>\n",
       "      <th>25%</th>\n",
       "      <td>17198.750000</td>\n",
       "      <td>2.000000</td>\n",
       "      <td>3.000000</td>\n",
       "      <td>3.000000</td>\n",
       "      <td>3.000000</td>\n",
       "      <td>2.000000</td>\n",
       "      <td>0.000000</td>\n",
       "      <td>3.000000</td>\n",
       "    </tr>\n",
       "    <tr>\n",
       "      <th>50%</th>\n",
       "      <td>34121.500000</td>\n",
       "      <td>3.500000</td>\n",
       "      <td>4.000000</td>\n",
       "      <td>4.000000</td>\n",
       "      <td>4.000000</td>\n",
       "      <td>3.000000</td>\n",
       "      <td>0.000000</td>\n",
       "      <td>4.000000</td>\n",
       "    </tr>\n",
       "    <tr>\n",
       "      <th>75%</th>\n",
       "      <td>50907.500000</td>\n",
       "      <td>4.000000</td>\n",
       "      <td>5.000000</td>\n",
       "      <td>5.000000</td>\n",
       "      <td>5.000000</td>\n",
       "      <td>4.000000</td>\n",
       "      <td>1.000000</td>\n",
       "      <td>4.000000</td>\n",
       "    </tr>\n",
       "    <tr>\n",
       "      <th>max</th>\n",
       "      <td>67528.000000</td>\n",
       "      <td>5.000000</td>\n",
       "      <td>5.000000</td>\n",
       "      <td>5.000000</td>\n",
       "      <td>5.000000</td>\n",
       "      <td>5.000000</td>\n",
       "      <td>2094.000000</td>\n",
       "      <td>5.000000</td>\n",
       "    </tr>\n",
       "  </tbody>\n",
       "</table>\n",
       "</div>"
      ],
      "text/plain": [
       "                 ID       score_1       score_2       score_3       score_4  \\\n",
       "count  30336.000000  27150.000000  24286.000000  27167.000000  27145.000000   \n",
       "mean   33998.602716      3.370460      3.784773      3.630047      3.943986   \n",
       "std    19506.284643      1.301983      1.300164      1.225714      1.043053   \n",
       "min        1.000000      1.000000      1.000000      1.000000      1.000000   \n",
       "25%    17198.750000      2.000000      3.000000      3.000000      3.000000   \n",
       "50%    34121.500000      3.500000      4.000000      4.000000      4.000000   \n",
       "75%    50907.500000      4.000000      5.000000      5.000000      5.000000   \n",
       "max    67528.000000      5.000000      5.000000      5.000000      5.000000   \n",
       "\n",
       "            score_5       score_6       overall  \n",
       "count  26851.000000  30336.000000  30336.000000  \n",
       "mean       3.322446      1.388482      3.588179  \n",
       "std        1.314696     21.390609      0.996981  \n",
       "min        1.000000      0.000000      1.000000  \n",
       "25%        2.000000      0.000000      3.000000  \n",
       "50%        3.000000      0.000000      4.000000  \n",
       "75%        4.000000      1.000000      4.000000  \n",
       "max        5.000000   2094.000000      5.000000  "
      ]
     },
     "execution_count": 7,
     "metadata": {},
     "output_type": "execute_result"
    }
   ],
   "source": [
    "train_data.describe()"
   ]
  },
  {
   "cell_type": "code",
   "execution_count": 8,
   "id": "b127a110",
   "metadata": {},
   "outputs": [
    {
     "data": {
      "text/plain": [
       "ID                    0\n",
       "Place                 0\n",
       "location          11254\n",
       "date                  0\n",
       "status                0\n",
       "job_title             0\n",
       "summary              52\n",
       "positives             0\n",
       "negatives             0\n",
       "advice_to_mgmt    13277\n",
       "score_1            3186\n",
       "score_2            6050\n",
       "score_3            3169\n",
       "score_4            3191\n",
       "score_5            3485\n",
       "score_6               0\n",
       "overall               0\n",
       "dtype: int64"
      ]
     },
     "execution_count": 8,
     "metadata": {},
     "output_type": "execute_result"
    }
   ],
   "source": [
    "train_data.isna().sum()"
   ]
  },
  {
   "cell_type": "code",
   "execution_count": 9,
   "id": "f6cb5b30",
   "metadata": {
    "scrolled": true
   },
   "outputs": [
    {
     "data": {
      "text/plain": [
       "ID                  int64\n",
       "Place              object\n",
       "location           object\n",
       "date               object\n",
       "status             object\n",
       "job_title          object\n",
       "summary            object\n",
       "positives          object\n",
       "negatives          object\n",
       "advice_to_mgmt     object\n",
       "score_1           float64\n",
       "score_2           float64\n",
       "score_3           float64\n",
       "score_4           float64\n",
       "score_5           float64\n",
       "score_6             int64\n",
       "overall           float64\n",
       "dtype: object"
      ]
     },
     "execution_count": 9,
     "metadata": {},
     "output_type": "execute_result"
    }
   ],
   "source": [
    "train_data.dtypes"
   ]
  },
  {
   "cell_type": "code",
   "execution_count": 10,
   "id": "2b11ebfd",
   "metadata": {},
   "outputs": [],
   "source": [
    "train_data['score_1']=train_data['score_1'].fillna(train_data['score_1'].median())"
   ]
  },
  {
   "cell_type": "code",
   "execution_count": 11,
   "id": "19ea7c04",
   "metadata": {},
   "outputs": [],
   "source": [
    "train_data['score_2'] =train_data['score_2'].fillna(train_data['score_2'].median())\n",
    "train_data['score_3'] =train_data['score_3'].fillna(train_data['score_3'].median())\n",
    "train_data['score_4'] =train_data['score_4'].fillna(train_data['score_4'].median())\n",
    "train_data['score_5'] =train_data['score_5'].fillna(train_data['score_5'].median())\n",
    "train_data['score_6'] =train_data['score_6'].fillna(train_data['score_6'].median())\n",
    "train_data['overall'] =train_data['overall'].fillna(train_data['overall'].median())"
   ]
  },
  {
   "cell_type": "code",
   "execution_count": 12,
   "id": "dbeabf90",
   "metadata": {},
   "outputs": [],
   "source": [
    "train_data['location'] =train_data['location'].fillna(train_data['location'].mode())\n",
    "train_data['summary'] =train_data['summary'].fillna(train_data['summary'].mode())\n",
    "train_data['advice_to_mgmt'] =train_data['advice_to_mgmt'].fillna(train_data['advice_to_mgmt'].mode())"
   ]
  },
  {
   "cell_type": "code",
   "execution_count": 13,
   "id": "3359c4c0",
   "metadata": {},
   "outputs": [
    {
     "data": {
      "text/plain": [
       "ID                    0\n",
       "Place                 0\n",
       "location          11253\n",
       "date                  0\n",
       "status                0\n",
       "job_title             0\n",
       "summary              52\n",
       "positives             0\n",
       "negatives             0\n",
       "advice_to_mgmt    13276\n",
       "score_1               0\n",
       "score_2               0\n",
       "score_3               0\n",
       "score_4               0\n",
       "score_5               0\n",
       "score_6               0\n",
       "overall               0\n",
       "dtype: int64"
      ]
     },
     "execution_count": 13,
     "metadata": {},
     "output_type": "execute_result"
    }
   ],
   "source": [
    "train_data.isna().sum()"
   ]
  },
  {
   "cell_type": "code",
   "execution_count": 14,
   "id": "62009a6e",
   "metadata": {},
   "outputs": [
    {
     "data": {
      "text/plain": [
       "Index(['ID', 'Place', 'date', 'status', 'job_title', 'positives', 'negatives',\n",
       "       'score_1', 'score_2', 'score_3', 'score_4', 'score_5', 'score_6',\n",
       "       'overall'],\n",
       "      dtype='object')"
      ]
     },
     "execution_count": 14,
     "metadata": {},
     "output_type": "execute_result"
    }
   ],
   "source": [
    "train_data=train_data.drop(['location','advice_to_mgmt','summary'],axis=1)\n",
    "train_data.columns"
   ]
  },
  {
   "cell_type": "code",
   "execution_count": 15,
   "id": "3e58e158",
   "metadata": {},
   "outputs": [
    {
     "data": {
      "image/png": "[encoded data removed]",
      "text/plain": [
       "<Figure size 1080x1080 with 20 Axes>"
      ]
     },
     "metadata": {
      "needs_background": "light"
     },
     "output_type": "display_data"
    }
   ],
   "source": [
    "train_data.plot(kind='box',subplots=True,layout=(4,5),figsize=(15,15),title='Outlier Visualization')\n",
    "plt.show()"
   ]
  },
  {
   "cell_type": "code",
   "execution_count": 16,
   "id": "013d37a0",
   "metadata": {},
   "outputs": [
    {
     "name": "stdout",
     "output_type": "stream",
     "text": [
      "3.0\n",
      "3.5\n",
      "4.0\n",
      "1.5\n",
      "5.5\n"
     ]
    }
   ],
   "source": [
    "Q1=np.percentile(train_data['score_1'],25,interpolation='midpoint')\n",
    "Q2=np.percentile(train_data['score_1'],50,interpolation='midpoint')   \n",
    "Q3=np.percentile(train_data['score_1'],75,interpolation='midpoint')\n",
    "print(Q1)\n",
    "print(Q2)\n",
    "print(Q3) \n",
    "\n",
    "#finding IQR\n",
    "IQR=Q3-Q1\n",
    "low_lim=Q1-1.5*IQR\n",
    "up_lim=Q3+1.5*IQR\n",
    "print(low_lim)          \n",
    "print(up_lim)"
   ]
  },
  {
   "cell_type": "code",
   "execution_count": 17,
   "id": "edbf91c4",
   "metadata": {},
   "outputs": [
    {
     "data": {
      "text/plain": [
       "3220"
      ]
     },
     "execution_count": 17,
     "metadata": {},
     "output_type": "execute_result"
    }
   ],
   "source": [
    "#removing outlier using for loop\n",
    "outlier=[]\n",
    "for x in train_data['score_1']:\n",
    "    if((x>up_lim)or(x<low_lim)):\n",
    "        outlier.append(x)\n",
    "        \n",
    "len(outlier)"
   ]
  },
  {
   "cell_type": "code",
   "execution_count": 18,
   "id": "0abbe6d6",
   "metadata": {},
   "outputs": [
    {
     "data": {
      "text/plain": [
       "Text(0.5, 1.0, 'Box plot of score_1')"
      ]
     },
     "execution_count": 18,
     "metadata": {},
     "output_type": "execute_result"
    },
    {
     "data": {
      "image/png": "[encoded data removed]",
      "text/plain": [
       "<Figure size 432x288 with 1 Axes>"
      ]
     },
     "metadata": {
      "needs_background": "light"
     },
     "output_type": "display_data"
    }
   ],
   "source": [
    "#Removing the outliers\n",
    "ind1=train_data['score_1']<low_lim\n",
    "train_data.loc[ind1].index\n",
    "train_data.drop(train_data.loc[ind1].index,inplace=True)\n",
    "plt.boxplot(train_data['score_1'])\n",
    "plt.title('Box plot of score_1')"
   ]
  },
  {
   "cell_type": "code",
   "execution_count": 19,
   "id": "1f0cda46",
   "metadata": {},
   "outputs": [
    {
     "name": "stdout",
     "output_type": "stream",
     "text": [
      "0.0\n",
      "0.0\n",
      "1.0\n",
      "-1.5\n",
      "2.5\n"
     ]
    }
   ],
   "source": [
    "Q1=np.percentile(train_data['score_6'],25,interpolation='midpoint')\n",
    "Q2=np.percentile(train_data['score_6'],50,interpolation='midpoint')   \n",
    "Q3=np.percentile(train_data['score_6'],75,interpolation='midpoint')\n",
    "print(Q1)\n",
    "print(Q2)\n",
    "print(Q3) \n",
    "\n",
    "#finding IQR\n",
    "IQR=Q3-Q1\n",
    "low_lim=Q1-1.5*IQR\n",
    "up_lim=Q3+1.5*IQR\n",
    "print(low_lim)          \n",
    "print(up_lim)"
   ]
  },
  {
   "cell_type": "code",
   "execution_count": 20,
   "id": "2a4f74ae",
   "metadata": {},
   "outputs": [
    {
     "data": {
      "text/plain": [
       "2357"
      ]
     },
     "execution_count": 20,
     "metadata": {},
     "output_type": "execute_result"
    }
   ],
   "source": [
    "#removing outlier using for loop\n",
    "outlier=[]\n",
    "for x in train_data['score_6']:\n",
    "    if((x>up_lim)or(x<low_lim)):\n",
    "        outlier.append(x)\n",
    "        \n",
    "len(outlier)"
   ]
  },
  {
   "cell_type": "code",
   "execution_count": 21,
   "id": "b3741e5d",
   "metadata": {},
   "outputs": [
    {
     "data": {
      "text/plain": [
       "Text(0.5, 1.0, 'Box plot of score_6')"
      ]
     },
     "execution_count": 21,
     "metadata": {},
     "output_type": "execute_result"
    },
    {
     "data": {
      "image/png": "[encoded data removed]",
      "text/plain": [
       "<Figure size 432x288 with 1 Axes>"
      ]
     },
     "metadata": {
      "needs_background": "light"
     },
     "output_type": "display_data"
    }
   ],
   "source": [
    "#Removing the outliers\n",
    "ind2=train_data['score_6']<low_lim\n",
    "train_data.loc[ind2].index\n",
    "train_data.drop(train_data.loc[ind2].index,inplace=True)\n",
    "ind3=train_data['score_6']>up_lim\n",
    "train_data.loc[ind3].index\n",
    "train_data.drop(train_data.loc[ind3].index,inplace=True)\n",
    "plt.boxplot(train_data['score_6'])\n",
    "plt.title('Box plot of score_6')"
   ]
  },
  {
   "cell_type": "code",
   "execution_count": 22,
   "id": "525a25b0",
   "metadata": {},
   "outputs": [
    {
     "name": "stdout",
     "output_type": "stream",
     "text": [
      "3.0\n",
      "3.0\n",
      "4.0\n",
      "1.5\n",
      "5.5\n"
     ]
    }
   ],
   "source": [
    "Q1=np.percentile(train_data['score_5'],25,interpolation='midpoint')\n",
    "Q2=np.percentile(train_data['score_5'],50,interpolation='midpoint')   \n",
    "Q3=np.percentile(train_data['score_5'],75,interpolation='midpoint')\n",
    "print(Q1)\n",
    "print(Q2)\n",
    "print(Q3) \n",
    "\n",
    "#finding IQR\n",
    "IQR=Q3-Q1\n",
    "low_lim=Q1-1.5*IQR\n",
    "up_lim=Q3+1.5*IQR\n",
    "print(low_lim)          \n",
    "print(up_lim)"
   ]
  },
  {
   "cell_type": "code",
   "execution_count": 23,
   "id": "292f41ac",
   "metadata": {},
   "outputs": [
    {
     "data": {
      "text/plain": [
       "1321"
      ]
     },
     "execution_count": 23,
     "metadata": {},
     "output_type": "execute_result"
    }
   ],
   "source": [
    "#removing outlier using for loop\n",
    "outlier=[]\n",
    "for x in train_data['score_5']:\n",
    "    if((x>up_lim)or(x<low_lim)):\n",
    "        outlier.append(x)\n",
    "        \n",
    "len(outlier)"
   ]
  },
  {
   "cell_type": "code",
   "execution_count": 24,
   "id": "991dd748",
   "metadata": {},
   "outputs": [
    {
     "data": {
      "text/plain": [
       "Text(0.5, 1.0, 'Box plot of score_5')"
      ]
     },
     "execution_count": 24,
     "metadata": {},
     "output_type": "execute_result"
    },
    {
     "data": {
      "image/png": "[encoded data removed]",
      "text/plain": [
       "<Figure size 432x288 with 1 Axes>"
      ]
     },
     "metadata": {
      "needs_background": "light"
     },
     "output_type": "display_data"
    }
   ],
   "source": [
    "#Removing the outliers\n",
    "ind4=train_data['score_5']<low_lim\n",
    "train_data.loc[ind4].index\n",
    "train_data.drop(train_data.loc[ind4].index,inplace=True)\n",
    "plt.boxplot(train_data['score_5'])\n",
    "plt.title('Box plot of score_5')"
   ]
  },
  {
   "cell_type": "code",
   "execution_count": 25,
   "id": "1dc6298e",
   "metadata": {},
   "outputs": [
    {
     "data": {
      "text/plain": [
       "Index(['ID', 'Place', 'date', 'status', 'job_title', 'positives', 'negatives',\n",
       "       'score_1', 'score_2', 'score_3', 'score_4', 'score_5', 'score_6',\n",
       "       'overall'],\n",
       "      dtype='object')"
      ]
     },
     "execution_count": 25,
     "metadata": {},
     "output_type": "execute_result"
    }
   ],
   "source": [
    "train_data.columns"
   ]
  },
  {
   "cell_type": "code",
   "execution_count": 26,
   "id": "1f7be31b",
   "metadata": {},
   "outputs": [],
   "source": [
    "# Splitting dataset into x and y\n",
    "y = train_data['overall']\n",
    "X = train_data.drop(['overall','Place', 'date', 'status', 'job_title', 'positives', 'negatives'],axis=1)"
   ]
  },
  {
   "cell_type": "code",
   "execution_count": 27,
   "id": "66ef5c99",
   "metadata": {},
   "outputs": [
    {
     "data": {
      "text/html": [
       "<div>\n",
       "<style scoped>\n",
       "    .dataframe tbody tr th:only-of-type {\n",
       "        vertical-align: middle;\n",
       "    }\n",
       "\n",
       "    .dataframe tbody tr th {\n",
       "        vertical-align: top;\n",
       "    }\n",
       "\n",
       "    .dataframe thead th {\n",
       "        text-align: right;\n",
       "    }\n",
       "</style>\n",
       "<table border=\"1\" class=\"dataframe\">\n",
       "  <thead>\n",
       "    <tr style=\"text-align: right;\">\n",
       "      <th></th>\n",
       "      <th>ID</th>\n",
       "      <th>score_1</th>\n",
       "      <th>score_2</th>\n",
       "      <th>score_3</th>\n",
       "      <th>score_4</th>\n",
       "      <th>score_5</th>\n",
       "      <th>score_6</th>\n",
       "    </tr>\n",
       "  </thead>\n",
       "  <tbody>\n",
       "    <tr>\n",
       "      <th>0</th>\n",
       "      <td>1</td>\n",
       "      <td>4.0</td>\n",
       "      <td>5.0</td>\n",
       "      <td>5.0</td>\n",
       "      <td>4.0</td>\n",
       "      <td>5.0</td>\n",
       "      <td>0</td>\n",
       "    </tr>\n",
       "    <tr>\n",
       "      <th>4</th>\n",
       "      <td>10</td>\n",
       "      <td>5.0</td>\n",
       "      <td>5.0</td>\n",
       "      <td>5.0</td>\n",
       "      <td>5.0</td>\n",
       "      <td>5.0</td>\n",
       "      <td>0</td>\n",
       "    </tr>\n",
       "    <tr>\n",
       "      <th>5</th>\n",
       "      <td>16</td>\n",
       "      <td>3.5</td>\n",
       "      <td>4.0</td>\n",
       "      <td>4.0</td>\n",
       "      <td>4.0</td>\n",
       "      <td>3.0</td>\n",
       "      <td>0</td>\n",
       "    </tr>\n",
       "    <tr>\n",
       "      <th>6</th>\n",
       "      <td>17</td>\n",
       "      <td>4.0</td>\n",
       "      <td>5.0</td>\n",
       "      <td>5.0</td>\n",
       "      <td>5.0</td>\n",
       "      <td>4.0</td>\n",
       "      <td>2</td>\n",
       "    </tr>\n",
       "    <tr>\n",
       "      <th>7</th>\n",
       "      <td>18</td>\n",
       "      <td>3.5</td>\n",
       "      <td>4.0</td>\n",
       "      <td>2.0</td>\n",
       "      <td>4.0</td>\n",
       "      <td>3.0</td>\n",
       "      <td>1</td>\n",
       "    </tr>\n",
       "    <tr>\n",
       "      <th>...</th>\n",
       "      <td>...</td>\n",
       "      <td>...</td>\n",
       "      <td>...</td>\n",
       "      <td>...</td>\n",
       "      <td>...</td>\n",
       "      <td>...</td>\n",
       "      <td>...</td>\n",
       "    </tr>\n",
       "    <tr>\n",
       "      <th>30330</th>\n",
       "      <td>67521</td>\n",
       "      <td>3.0</td>\n",
       "      <td>4.0</td>\n",
       "      <td>2.5</td>\n",
       "      <td>3.0</td>\n",
       "      <td>4.5</td>\n",
       "      <td>1</td>\n",
       "    </tr>\n",
       "    <tr>\n",
       "      <th>30332</th>\n",
       "      <td>67524</td>\n",
       "      <td>3.5</td>\n",
       "      <td>4.0</td>\n",
       "      <td>3.5</td>\n",
       "      <td>4.0</td>\n",
       "      <td>4.0</td>\n",
       "      <td>0</td>\n",
       "    </tr>\n",
       "    <tr>\n",
       "      <th>30333</th>\n",
       "      <td>67525</td>\n",
       "      <td>3.0</td>\n",
       "      <td>4.0</td>\n",
       "      <td>4.0</td>\n",
       "      <td>4.0</td>\n",
       "      <td>2.0</td>\n",
       "      <td>0</td>\n",
       "    </tr>\n",
       "    <tr>\n",
       "      <th>30334</th>\n",
       "      <td>67527</td>\n",
       "      <td>3.0</td>\n",
       "      <td>4.0</td>\n",
       "      <td>4.0</td>\n",
       "      <td>4.5</td>\n",
       "      <td>3.5</td>\n",
       "      <td>0</td>\n",
       "    </tr>\n",
       "    <tr>\n",
       "      <th>30335</th>\n",
       "      <td>67528</td>\n",
       "      <td>2.0</td>\n",
       "      <td>4.0</td>\n",
       "      <td>3.0</td>\n",
       "      <td>3.5</td>\n",
       "      <td>3.0</td>\n",
       "      <td>0</td>\n",
       "    </tr>\n",
       "  </tbody>\n",
       "</table>\n",
       "<p>23438 rows × 7 columns</p>\n",
       "</div>"
      ],
      "text/plain": [
       "          ID  score_1  score_2  score_3  score_4  score_5  score_6\n",
       "0          1      4.0      5.0      5.0      4.0      5.0        0\n",
       "4         10      5.0      5.0      5.0      5.0      5.0        0\n",
       "5         16      3.5      4.0      4.0      4.0      3.0        0\n",
       "6         17      4.0      5.0      5.0      5.0      4.0        2\n",
       "7         18      3.5      4.0      2.0      4.0      3.0        1\n",
       "...      ...      ...      ...      ...      ...      ...      ...\n",
       "30330  67521      3.0      4.0      2.5      3.0      4.5        1\n",
       "30332  67524      3.5      4.0      3.5      4.0      4.0        0\n",
       "30333  67525      3.0      4.0      4.0      4.0      2.0        0\n",
       "30334  67527      3.0      4.0      4.0      4.5      3.5        0\n",
       "30335  67528      2.0      4.0      3.0      3.5      3.0        0\n",
       "\n",
       "[23438 rows x 7 columns]"
      ]
     },
     "execution_count": 27,
     "metadata": {},
     "output_type": "execute_result"
    }
   ],
   "source": [
    "X"
   ]
  },
  {
   "cell_type": "code",
   "execution_count": 28,
   "id": "cc23e166",
   "metadata": {},
   "outputs": [],
   "source": [
    "from sklearn.linear_model import LogisticRegression\n",
    "from sklearn.model_selection import train_test_split\n",
    "from sklearn import linear_model\n",
    "from sklearn.metrics import confusion_matrix,classification_report,accuracy_score, precision_score\n",
    "from sklearn.metrics import plot_confusion_matrix"
   ]
  },
  {
   "cell_type": "code",
   "execution_count": 33,
   "id": "17ade26d",
   "metadata": {},
   "outputs": [
    {
     "name": "stderr",
     "output_type": "stream",
     "text": [
      "C:\\Users\\anoop\\Downloads\\INDU\\lib\\site-packages\\sklearn\\metrics\\_classification.py:1245: UndefinedMetricWarning: Precision and F-score are ill-defined and being set to 0.0 in labels with no predicted samples. Use `zero_division` parameter to control this behavior.\n",
      "  _warn_prf(average, modifier, msg_start, len(result))\n",
      "C:\\Users\\anoop\\Downloads\\INDU\\lib\\site-packages\\sklearn\\metrics\\_classification.py:1245: UndefinedMetricWarning: Precision and F-score are ill-defined and being set to 0.0 in labels with no predicted samples. Use `zero_division` parameter to control this behavior.\n",
      "  _warn_prf(average, modifier, msg_start, len(result))\n",
      "C:\\Users\\anoop\\Downloads\\INDU\\lib\\site-packages\\sklearn\\metrics\\_classification.py:1245: UndefinedMetricWarning: Precision and F-score are ill-defined and being set to 0.0 in labels with no predicted samples. Use `zero_division` parameter to control this behavior.\n",
      "  _warn_prf(average, modifier, msg_start, len(result))\n"
     ]
    },
    {
     "name": "stdout",
     "output_type": "stream",
     "text": [
      "              precision    recall  f1-score   support\n",
      "\n",
      "         1.0       0.00      0.00      0.00        35\n",
      "         2.0       0.00      0.00      0.00       442\n",
      "         3.0       0.00      0.00      0.00      1770\n",
      "         4.0       0.38      1.00      0.55      2228\n",
      "         5.0       0.00      0.00      0.00      1385\n",
      "\n",
      "    accuracy                           0.38      5860\n",
      "   macro avg       0.08      0.20      0.11      5860\n",
      "weighted avg       0.14      0.38      0.21      5860\n",
      "\n"
     ]
    },
    {
     "data": {
      "image/png": "[encoded data removed]",
      "text/plain": [
       "<Figure size 432x288 with 2 Axes>"
      ]
     },
     "metadata": {
      "needs_background": "light"
     },
     "output_type": "display_data"
    }
   ],
   "source": [
    "X_train,X_test,y_train,y_test = train_test_split(X,y,random_state=42,test_size=0.25)\n",
    "lr = linear_model.LogisticRegression()\n",
    "model = lr.fit(X_train,y_train)\n",
    "predictions = model.predict(X_test)\n",
    "predictions\n",
    "plot_confusion_matrix(lr, X_test, y_test)\n",
    "print(classification_report(y_test, predictions))"
   ]
  },
  {
   "cell_type": "code",
   "execution_count": 34,
   "id": "9987dccb",
   "metadata": {},
   "outputs": [
    {
     "name": "stdout",
     "output_type": "stream",
     "text": [
      "[4. 4. 4. ... 4. 4. 4.]\n"
     ]
    }
   ],
   "source": [
    "print(predictions)"
   ]
  },
  {
   "cell_type": "code",
   "execution_count": 30,
   "id": "f9d580f8",
   "metadata": {},
   "outputs": [
    {
     "data": {
      "text/plain": [
       "Index(['ID', 'Place', 'location', 'date', 'status', 'job_title', 'summary',\n",
       "       'positives', 'negatives', 'advice_to_mgmt', 'score_1', 'score_2',\n",
       "       'score_3', 'score_4', 'score_5', 'score_6'],\n",
       "      dtype='object')"
      ]
     },
     "execution_count": 30,
     "metadata": {},
     "output_type": "execute_result"
    }
   ],
   "source": [
    "test_data.columns"
   ]
  },
  {
   "cell_type": "code",
   "execution_count": 81,
   "id": "4bd9b2d7",
   "metadata": {},
   "outputs": [],
   "source": [
    "test_data=test_data.drop(['Place', 'location', 'date', 'status', 'job_title', 'summary',\n",
    "       'positives', 'negatives', 'advice_to_mgmt'],axis=1)"
   ]
  },
  {
   "cell_type": "code",
   "execution_count": 82,
   "id": "0c49ff24",
   "metadata": {},
   "outputs": [
    {
     "data": {
      "text/html": [
       "<div>\n",
       "<style scoped>\n",
       "    .dataframe tbody tr th:only-of-type {\n",
       "        vertical-align: middle;\n",
       "    }\n",
       "\n",
       "    .dataframe tbody tr th {\n",
       "        vertical-align: top;\n",
       "    }\n",
       "\n",
       "    .dataframe thead th {\n",
       "        text-align: right;\n",
       "    }\n",
       "</style>\n",
       "<table border=\"1\" class=\"dataframe\">\n",
       "  <thead>\n",
       "    <tr style=\"text-align: right;\">\n",
       "      <th></th>\n",
       "      <th>ID</th>\n",
       "      <th>score_1</th>\n",
       "      <th>score_2</th>\n",
       "      <th>score_3</th>\n",
       "      <th>score_4</th>\n",
       "      <th>score_5</th>\n",
       "      <th>score_6</th>\n",
       "    </tr>\n",
       "  </thead>\n",
       "  <tbody>\n",
       "    <tr>\n",
       "      <th>0</th>\n",
       "      <td>5</td>\n",
       "      <td>5</td>\n",
       "      <td>5</td>\n",
       "      <td>5</td>\n",
       "      <td>5</td>\n",
       "      <td>5</td>\n",
       "      <td>49</td>\n",
       "    </tr>\n",
       "    <tr>\n",
       "      <th>1</th>\n",
       "      <td>6</td>\n",
       "      <td>4</td>\n",
       "      <td>4</td>\n",
       "      <td>4</td>\n",
       "      <td>5</td>\n",
       "      <td>4</td>\n",
       "      <td>1</td>\n",
       "    </tr>\n",
       "    <tr>\n",
       "      <th>2</th>\n",
       "      <td>7</td>\n",
       "      <td>5</td>\n",
       "      <td>4</td>\n",
       "      <td>4</td>\n",
       "      <td>5</td>\n",
       "      <td>4</td>\n",
       "      <td>0</td>\n",
       "    </tr>\n",
       "    <tr>\n",
       "      <th>3</th>\n",
       "      <td>8</td>\n",
       "      <td>5</td>\n",
       "      <td>5</td>\n",
       "      <td>5</td>\n",
       "      <td>5</td>\n",
       "      <td>5</td>\n",
       "      <td>0</td>\n",
       "    </tr>\n",
       "    <tr>\n",
       "      <th>4</th>\n",
       "      <td>9</td>\n",
       "      <td>5</td>\n",
       "      <td>5</td>\n",
       "      <td>5</td>\n",
       "      <td>5</td>\n",
       "      <td>5</td>\n",
       "      <td>0</td>\n",
       "    </tr>\n",
       "  </tbody>\n",
       "</table>\n",
       "</div>"
      ],
      "text/plain": [
       "   ID  score_1  score_2  score_3  score_4  score_5  score_6\n",
       "0   5        5        5        5        5        5       49\n",
       "1   6        4        4        4        5        4        1\n",
       "2   7        5        4        4        5        4        0\n",
       "3   8        5        5        5        5        5        0\n",
       "4   9        5        5        5        5        5        0"
      ]
     },
     "execution_count": 82,
     "metadata": {},
     "output_type": "execute_result"
    }
   ],
   "source": [
    "test_data.head()"
   ]
  },
  {
   "cell_type": "code",
   "execution_count": 83,
   "id": "c07f3ea9",
   "metadata": {},
   "outputs": [
    {
     "data": {
      "text/plain": [
       "ID         0\n",
       "score_1    0\n",
       "score_2    0\n",
       "score_3    0\n",
       "score_4    0\n",
       "score_5    0\n",
       "score_6    0\n",
       "dtype: int64"
      ]
     },
     "execution_count": 83,
     "metadata": {},
     "output_type": "execute_result"
    }
   ],
   "source": [
    "test_data.isna().sum()"
   ]
  },
  {
   "cell_type": "code",
   "execution_count": 88,
   "id": "2f4fd58a",
   "metadata": {},
   "outputs": [
    {
     "data": {
      "text/plain": [
       "Index(['ID', 'score_1', 'score_2', 'score_3', 'score_4', 'score_5', 'score_6'], dtype='object')"
      ]
     },
     "execution_count": 88,
     "metadata": {},
     "output_type": "execute_result"
    }
   ],
   "source": [
    "test_data.columns"
   ]
  },
  {
   "cell_type": "code",
   "execution_count": 90,
   "id": "5275d0bd",
   "metadata": {},
   "outputs": [],
   "source": [
    "make_predict=test_data[['ID', 'score_1', 'score_2', 'score_3', 'score_4', 'score_5', 'score_6']]\n"
   ]
  },
  {
   "cell_type": "code",
   "execution_count": 91,
   "id": "487d9bf5",
   "metadata": {},
   "outputs": [
    {
     "ename": "ValueError",
     "evalue": "can only convert an array of size 1 to a Python scalar",
     "output_type": "error",
     "traceback": [
      "\u001b[1;31m---------------------------------------------------------------------------\u001b[0m",
      "\u001b[1;31mValueError\u001b[0m                                Traceback (most recent call last)",
      "\u001b[1;32m<ipython-input-91-89ed3f651909>\u001b[0m in \u001b[0;36m<module>\u001b[1;34m\u001b[0m\n\u001b[1;32m----> 1\u001b[1;33m \u001b[0mmodel\u001b[0m\u001b[1;33m.\u001b[0m\u001b[0mpredict\u001b[0m\u001b[1;33m(\u001b[0m\u001b[0mmake_predict\u001b[0m\u001b[1;33m)\u001b[0m\u001b[1;33m.\u001b[0m\u001b[0mitem\u001b[0m\u001b[1;33m(\u001b[0m\u001b[1;33m)\u001b[0m\u001b[1;33m\u001b[0m\u001b[1;33m\u001b[0m\u001b[0m\n\u001b[0m",
      "\u001b[1;31mValueError\u001b[0m: can only convert an array of size 1 to a Python scalar"
     ]
    }
   ],
   "source": [
    "model.predict(make_predict).item()"
   ]
  },
  {
   "cell_type": "code",
   "execution_count": 31,
   "id": "535d9571",
   "metadata": {},
   "outputs": [
    {
     "data": {
      "text/html": [
       "<div>\n",
       "<style scoped>\n",
       "    .dataframe tbody tr th:only-of-type {\n",
       "        vertical-align: middle;\n",
       "    }\n",
       "\n",
       "    .dataframe tbody tr th {\n",
       "        vertical-align: top;\n",
       "    }\n",
       "\n",
       "    .dataframe thead th {\n",
       "        text-align: right;\n",
       "    }\n",
       "</style>\n",
       "<table border=\"1\" class=\"dataframe\">\n",
       "  <thead>\n",
       "    <tr style=\"text-align: right;\">\n",
       "      <th></th>\n",
       "      <th>ID</th>\n",
       "      <th>score_1</th>\n",
       "      <th>score_2</th>\n",
       "      <th>score_3</th>\n",
       "      <th>score_4</th>\n",
       "      <th>score_5</th>\n",
       "      <th>score_6</th>\n",
       "    </tr>\n",
       "  </thead>\n",
       "  <tbody>\n",
       "    <tr>\n",
       "      <th>0</th>\n",
       "      <td>1</td>\n",
       "      <td>4.0</td>\n",
       "      <td>5.0</td>\n",
       "      <td>5.0</td>\n",
       "      <td>4.0</td>\n",
       "      <td>5.0</td>\n",
       "      <td>0</td>\n",
       "    </tr>\n",
       "    <tr>\n",
       "      <th>4</th>\n",
       "      <td>10</td>\n",
       "      <td>5.0</td>\n",
       "      <td>5.0</td>\n",
       "      <td>5.0</td>\n",
       "      <td>5.0</td>\n",
       "      <td>5.0</td>\n",
       "      <td>0</td>\n",
       "    </tr>\n",
       "    <tr>\n",
       "      <th>5</th>\n",
       "      <td>16</td>\n",
       "      <td>3.5</td>\n",
       "      <td>4.0</td>\n",
       "      <td>4.0</td>\n",
       "      <td>4.0</td>\n",
       "      <td>3.0</td>\n",
       "      <td>0</td>\n",
       "    </tr>\n",
       "    <tr>\n",
       "      <th>6</th>\n",
       "      <td>17</td>\n",
       "      <td>4.0</td>\n",
       "      <td>5.0</td>\n",
       "      <td>5.0</td>\n",
       "      <td>5.0</td>\n",
       "      <td>4.0</td>\n",
       "      <td>2</td>\n",
       "    </tr>\n",
       "    <tr>\n",
       "      <th>7</th>\n",
       "      <td>18</td>\n",
       "      <td>3.5</td>\n",
       "      <td>4.0</td>\n",
       "      <td>2.0</td>\n",
       "      <td>4.0</td>\n",
       "      <td>3.0</td>\n",
       "      <td>1</td>\n",
       "    </tr>\n",
       "    <tr>\n",
       "      <th>...</th>\n",
       "      <td>...</td>\n",
       "      <td>...</td>\n",
       "      <td>...</td>\n",
       "      <td>...</td>\n",
       "      <td>...</td>\n",
       "      <td>...</td>\n",
       "      <td>...</td>\n",
       "    </tr>\n",
       "    <tr>\n",
       "      <th>30330</th>\n",
       "      <td>67521</td>\n",
       "      <td>3.0</td>\n",
       "      <td>4.0</td>\n",
       "      <td>2.5</td>\n",
       "      <td>3.0</td>\n",
       "      <td>4.5</td>\n",
       "      <td>1</td>\n",
       "    </tr>\n",
       "    <tr>\n",
       "      <th>30332</th>\n",
       "      <td>67524</td>\n",
       "      <td>3.5</td>\n",
       "      <td>4.0</td>\n",
       "      <td>3.5</td>\n",
       "      <td>4.0</td>\n",
       "      <td>4.0</td>\n",
       "      <td>0</td>\n",
       "    </tr>\n",
       "    <tr>\n",
       "      <th>30333</th>\n",
       "      <td>67525</td>\n",
       "      <td>3.0</td>\n",
       "      <td>4.0</td>\n",
       "      <td>4.0</td>\n",
       "      <td>4.0</td>\n",
       "      <td>2.0</td>\n",
       "      <td>0</td>\n",
       "    </tr>\n",
       "    <tr>\n",
       "      <th>30334</th>\n",
       "      <td>67527</td>\n",
       "      <td>3.0</td>\n",
       "      <td>4.0</td>\n",
       "      <td>4.0</td>\n",
       "      <td>4.5</td>\n",
       "      <td>3.5</td>\n",
       "      <td>0</td>\n",
       "    </tr>\n",
       "    <tr>\n",
       "      <th>30335</th>\n",
       "      <td>67528</td>\n",
       "      <td>2.0</td>\n",
       "      <td>4.0</td>\n",
       "      <td>3.0</td>\n",
       "      <td>3.5</td>\n",
       "      <td>3.0</td>\n",
       "      <td>0</td>\n",
       "    </tr>\n",
       "  </tbody>\n",
       "</table>\n",
       "<p>23438 rows × 7 columns</p>\n",
       "</div>"
      ],
      "text/plain": [
       "          ID  score_1  score_2  score_3  score_4  score_5  score_6\n",
       "0          1      4.0      5.0      5.0      4.0      5.0        0\n",
       "4         10      5.0      5.0      5.0      5.0      5.0        0\n",
       "5         16      3.5      4.0      4.0      4.0      3.0        0\n",
       "6         17      4.0      5.0      5.0      5.0      4.0        2\n",
       "7         18      3.5      4.0      2.0      4.0      3.0        1\n",
       "...      ...      ...      ...      ...      ...      ...      ...\n",
       "30330  67521      3.0      4.0      2.5      3.0      4.5        1\n",
       "30332  67524      3.5      4.0      3.5      4.0      4.0        0\n",
       "30333  67525      3.0      4.0      4.0      4.0      2.0        0\n",
       "30334  67527      3.0      4.0      4.0      4.5      3.5        0\n",
       "30335  67528      2.0      4.0      3.0      3.5      3.0        0\n",
       "\n",
       "[23438 rows x 7 columns]"
      ]
     },
     "execution_count": 31,
     "metadata": {},
     "output_type": "execute_result"
    }
   ],
   "source": []
  },
  {
   "cell_type": "code",
   "execution_count": 32,
   "id": "cd424b4d",
   "metadata": {},
   "outputs": [],
   "source": [
    "X.to_csv('out.csv')"
   ]
  },
  {
   "cell_type": "code",
   "execution_count": null,
   "id": "d40ad3c2",
   "metadata": {},
   "outputs": [],
   "source": [
    "predict="
   ]
  }
 ],
 "metadata": {
  "kernelspec": {
   "display_name": "Python 3",
   "language": "python",
   "name": "python3"
  },
  "language_info": {
   "codemirror_mode": {
    "name": "ipython",
    "version": 3
   },
   "file_extension": ".py",
   "mimetype": "text/x-python",
   "name": "python",
   "nbconvert_exporter": "python",
   "pygments_lexer": "ipython3",
   "version": "3.8.8"
  }
 },
 "nbformat": 4,
 "nbformat_minor": 5
}
